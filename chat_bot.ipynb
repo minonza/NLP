{
  "nbformat": 4,
  "nbformat_minor": 0,
  "metadata": {
    "colab": {
      "name": "chat_bot.ipynb",
      "provenance": [],
      "collapsed_sections": [],
      "authorship_tag": "ABX9TyPl5Hw+3gZFjmQhToyKAH1u",
      "include_colab_link": true
    },
    "kernelspec": {
      "name": "python3",
      "display_name": "Python 3"
    },
    "language_info": {
      "name": "python"
    }
  },
  "cells": [
    {
      "cell_type": "markdown",
      "metadata": {
        "id": "view-in-github",
        "colab_type": "text"
      },
      "source": [
        "<a href=\"https://colab.research.google.com/github/minonza/NLP/blob/main/chat_bot.ipynb\" target=\"_parent\"><img src=\"https://colab.research.google.com/assets/colab-badge.svg\" alt=\"Open In Colab\"/></a>"
      ]
    },
    {
      "cell_type": "code",
      "metadata": {
        "id": "vVdhHBy759SV"
      },
      "source": [
        "from nltk.chat.util import Chat,reflections"
      ],
      "execution_count": 1,
      "outputs": []
    },
    {
      "cell_type": "code",
      "metadata": {
        "colab": {
          "base_uri": "https://localhost:8080/"
        },
        "id": "bFLPIDQZ6wJ8",
        "outputId": "760bc6b6-b816-4e2e-ab2f-42b01942bf71"
      },
      "source": [
        "reflections"
      ],
      "execution_count": 2,
      "outputs": [
        {
          "output_type": "execute_result",
          "data": {
            "text/plain": [
              "{'i': 'you',\n",
              " 'i am': 'you are',\n",
              " 'i was': 'you were',\n",
              " \"i'd\": 'you would',\n",
              " \"i'll\": 'you will',\n",
              " \"i'm\": 'you are',\n",
              " \"i've\": 'you have',\n",
              " 'me': 'you',\n",
              " 'my': 'your',\n",
              " 'you': 'me',\n",
              " 'you are': 'I am',\n",
              " 'you were': 'I was',\n",
              " \"you'll\": 'I will',\n",
              " \"you've\": 'I have',\n",
              " 'your': 'my',\n",
              " 'yours': 'mine'}"
            ]
          },
          "metadata": {
            "tags": []
          },
          "execution_count": 2
        }
      ]
    },
    {
      "cell_type": "code",
      "metadata": {
        "colab": {
          "base_uri": "https://localhost:8080/"
        },
        "id": "xgmZ7H3m60cb",
        "outputId": "b4c06b49-94e7-4c8c-e096-aca63c995378"
      },
      "source": [
        "Chat"
      ],
      "execution_count": 3,
      "outputs": [
        {
          "output_type": "execute_result",
          "data": {
            "text/plain": [
              "nltk.chat.util.Chat"
            ]
          },
          "metadata": {
            "tags": []
          },
          "execution_count": 3
        }
      ]
    },
    {
      "cell_type": "code",
      "metadata": {
        "id": "nBJH6X7L64AQ"
      },
      "source": [
        "pairs=[\n",
        "    [ \n",
        "       r\"(.*) plan (.*)\",\n",
        "       [\"we have 249 rs per month plan\",]\n",
        "    ],\n",
        "    [\n",
        "       r\"(.*)help(.*)\",\n",
        "       [\"I can help you\",]\n",
        "    ],\n",
        "    [\n",
        "       r\"(.*)your name?\",\n",
        "       [\"My name is Vivek and I am a chatbot.\",]\n",
        "    ],\n",
        "    [\n",
        "       r\"how are you(.*) ?\",\n",
        "       [\"I am doing well\",\"i am great!\",\"I am very cool!\"]\n",
        "    ],\n",
        "    [\n",
        "       r\"sorry(.*)\",\n",
        "       [\"Its alright\",\"Its ok, never mind that\",]\n",
        "    ],\n",
        "    [\n",
        "       r\"(hi|hello|hola|holla)(.*)\",\n",
        "       [\"Hello\",\"Hey there\",]\n",
        "    ],\n",
        "    [\n",
        "       r\"what (.*) want ?\",\n",
        "       [\"2000000000000000$ thats it\",]\n",
        "    ],\n",
        "\n",
        "]"
      ],
      "execution_count": 5,
      "outputs": []
    },
    {
      "cell_type": "code",
      "metadata": {
        "colab": {
          "base_uri": "https://localhost:8080/"
        },
        "id": "DDFJlEGB9h59",
        "outputId": "f7039bd0-abd3-48ba-abfc-03de4e194003"
      },
      "source": [
        "print(\"hi.I'm vivek and I like to chat \\n Please type in lowercase english language. type quit to leave\")\n",
        "chat = Chat(pairs,reflections)"
      ],
      "execution_count": 6,
      "outputs": [
        {
          "output_type": "stream",
          "text": [
            "hi.I'm vivek and I like to chat \n",
            " Please type in lowercase english language. type quit to leave\n"
          ],
          "name": "stdout"
        }
      ]
    },
    {
      "cell_type": "code",
      "metadata": {
        "colab": {
          "base_uri": "https://localhost:8080/"
        },
        "id": "YJt4iBVz98Xi",
        "outputId": "87b67e11-3bfa-4441-cf92-700634274ea8"
      },
      "source": [
        "chat.converse()"
      ],
      "execution_count": 7,
      "outputs": [
        {
          "output_type": "stream",
          "text": [
            ">hi\n",
            "Hello\n",
            ">how are you\n",
            "i am great!\n",
            ">what is your name?\n",
            "My name is Vivek and I am a chatbot.\n",
            ">quit\n",
            "None\n"
          ],
          "name": "stdout"
        }
      ]
    },
    {
      "cell_type": "code",
      "metadata": {
        "id": "HItcE8ck9_0Z"
      },
      "source": [
        ""
      ],
      "execution_count": 7,
      "outputs": []
    }
  ]
}