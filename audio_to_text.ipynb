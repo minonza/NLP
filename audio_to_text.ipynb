{
  "nbformat": 4,
  "nbformat_minor": 0,
  "metadata": {
    "colab": {
      "name": "audio_to_text.ipynb",
      "provenance": [],
      "collapsed_sections": [],
      "mount_file_id": "1lR85QDaWNlilW9--1LORoaWC92E8n_FQ",
      "authorship_tag": "ABX9TyNDqo9zTm18fmSugTvYcSYe",
      "include_colab_link": true
    },
    "kernelspec": {
      "name": "python3",
      "display_name": "Python 3"
    },
    "language_info": {
      "name": "python"
    }
  },
  "cells": [
    {
      "cell_type": "markdown",
      "metadata": {
        "id": "view-in-github",
        "colab_type": "text"
      },
      "source": [
        "<a href=\"https://colab.research.google.com/github/minonza/NLP/blob/main/audio_to_text.ipynb\" target=\"_parent\"><img src=\"https://colab.research.google.com/assets/colab-badge.svg\" alt=\"Open In Colab\"/></a>"
      ]
    },
    {
      "cell_type": "code",
      "metadata": {
        "colab": {
          "base_uri": "https://localhost:8080/"
        },
        "id": "2X6-FVAhSSOG",
        "outputId": "01943cfe-8c49-4671-f1ec-660ecaadf7c5"
      },
      "source": [
        "#!pip install SpeechRecognition\n",
        "import speech_recognition as sr\n",
        "from textblob import TextBlob"
      ],
      "execution_count": 2,
      "outputs": [
        {
          "output_type": "stream",
          "text": [
            "Collecting SpeechRecognition\n",
            "  Downloading SpeechRecognition-3.8.1-py2.py3-none-any.whl (32.8 MB)\n",
            "\u001b[K     |████████████████████████████████| 32.8 MB 34 kB/s \n",
            "\u001b[?25hInstalling collected packages: SpeechRecognition\n",
            "Successfully installed SpeechRecognition-3.8.1\n"
          ],
          "name": "stdout"
        }
      ]
    },
    {
      "cell_type": "code",
      "metadata": {
        "colab": {
          "base_uri": "https://localhost:8080/"
        },
        "id": "s7FmBbCiSr3o",
        "outputId": "88fe4fcc-c189-4bc5-bba8-9009ea123f52"
      },
      "source": [
        "r=sr.Recognizer()\n",
        "with sr.AudioFile('/content/drive/MyDrive/test.wav') as source:\n",
        "  audio_text=r.listen(source,timeout=2)\n",
        "\n",
        "  try:\n",
        "    text=r.recognize_google(audio_text)\n",
        "    print('converting audio transcripts into text...\\n')\n",
        "    print('your audio text is=\\n',text)\n",
        "    blob=TextBlob(text)\n",
        "    your_lang=blob.translate(to='hi')\n",
        "    print(\"\\n Native language text = \\n\",your_lang)\n",
        "  except:\n",
        "    print(\"sorry run again...\")  \n"
      ],
      "execution_count": 3,
      "outputs": [
        {
          "output_type": "stream",
          "text": [
            "converting audio transcripts into text...\n",
            "\n",
            "your audio text is=\n",
            " how are you are you finding mommy how is Papa is Papa\n",
            "\n",
            " Native language text = \n",
            " आप कैसी हैं मम्मी को ढूंढ रही हैं पापा पापा कैसे हैं\n"
          ],
          "name": "stdout"
        }
      ]
    },
    {
      "cell_type": "code",
      "metadata": {
        "id": "dXb9XEu9XaT0"
      },
      "source": [
        ""
      ],
      "execution_count": null,
      "outputs": []
    }
  ]
}