{
  "nbformat": 4,
  "nbformat_minor": 0,
  "metadata": {
    "colab": {
      "name": "NLP1.ipynb",
      "provenance": [],
      "collapsed_sections": [],
      "authorship_tag": "ABX9TyPv1Yq5bEZKRdsF6+W2HBzm",
      "include_colab_link": true
    },
    "kernelspec": {
      "name": "python3",
      "display_name": "Python 3"
    },
    "language_info": {
      "name": "python"
    }
  },
  "cells": [
    {
      "cell_type": "markdown",
      "metadata": {
        "id": "view-in-github",
        "colab_type": "text"
      },
      "source": [
        "<a href=\"https://colab.research.google.com/github/minonza/NLP/blob/main/NLP1.ipynb\" target=\"_parent\"><img src=\"https://colab.research.google.com/assets/colab-badge.svg\" alt=\"Open In Colab\"/></a>"
      ]
    },
    {
      "cell_type": "code",
      "metadata": {
        "colab": {
          "base_uri": "https://localhost:8080/"
        },
        "id": "o0xf81ri4BK3",
        "outputId": "267c82b3-1ec5-490e-82ed-cc45c62c9d36"
      },
      "source": [
        "!pip install nltk"
      ],
      "execution_count": 5,
      "outputs": [
        {
          "output_type": "stream",
          "text": [
            "Requirement already satisfied: nltk in /usr/local/lib/python3.7/dist-packages (3.2.5)\n",
            "Requirement already satisfied: six in /usr/local/lib/python3.7/dist-packages (from nltk) (1.15.0)\n"
          ],
          "name": "stdout"
        }
      ]
    },
    {
      "cell_type": "code",
      "metadata": {
        "colab": {
          "base_uri": "https://localhost:8080/"
        },
        "id": "h0XcSKTy-C9N",
        "outputId": "6b4a82c3-e174-45f5-ff7f-17af0f3570f4"
      },
      "source": [
        "import nltk\n",
        "#nltk.download('punkt')\n",
        "from nltk.tokenize import word_tokenize"
      ],
      "execution_count": 9,
      "outputs": [
        {
          "output_type": "stream",
          "text": [
            "[nltk_data] Downloading package punkt to /root/nltk_data...\n",
            "[nltk_data]   Unzipping tokenizers/punkt.zip.\n"
          ],
          "name": "stdout"
        }
      ]
    },
    {
      "cell_type": "code",
      "metadata": {
        "id": "71BWWa5u-6fS"
      },
      "source": [
        "\n",
        "text=\"I am learning natural language processing\""
      ],
      "execution_count": 7,
      "outputs": []
    },
    {
      "cell_type": "code",
      "metadata": {
        "colab": {
          "base_uri": "https://localhost:8080/"
        },
        "id": "HbaY3DNx_BXy",
        "outputId": "f764169f-0b76-412d-fab1-8ba5fbe6d4ff"
      },
      "source": [
        "print(word_tokenize(text))"
      ],
      "execution_count": 10,
      "outputs": [
        {
          "output_type": "stream",
          "text": [
            "['I', 'am', 'learning', 'natural', 'language', 'processing']\n"
          ],
          "name": "stdout"
        }
      ]
    },
    {
      "cell_type": "code",
      "metadata": {
        "id": "RfsHhE2M_FSl"
      },
      "source": [
        "from  nltk.tokenize import sent_tokenize\n",
        "text=\"Our Company annual growth is 25.50%. good job Mr. Vivek\"\n"
      ],
      "execution_count": 11,
      "outputs": []
    },
    {
      "cell_type": "code",
      "metadata": {
        "colab": {
          "base_uri": "https://localhost:8080/"
        },
        "id": "lpVvfJa8CXLq",
        "outputId": "0cbe6806-e7ab-43e8-959f-8b7f337872cc"
      },
      "source": [
        "print(sent_tokenize(text))"
      ],
      "execution_count": 13,
      "outputs": [
        {
          "output_type": "stream",
          "text": [
            "['Our Company annual growth is 25.50%.', 'good job Mr. Vivek']\n"
          ],
          "name": "stdout"
        }
      ]
    },
    {
      "cell_type": "code",
      "metadata": {
        "id": "Wd-yOzEaCZ_P"
      },
      "source": [
        "from nltk.tokenize import regexp_tokenize"
      ],
      "execution_count": 14,
      "outputs": []
    },
    {
      "cell_type": "code",
      "metadata": {
        "id": "7FsDRtUkDhlu"
      },
      "source": [
        "text=\"y own to carry the expenses to pay for the certificate of this course. I live only for my scholarship, it is very much difficult for me to gather such amount of money for the certificate. Financial Aid will help me take this course without any adverse impact on my monthly essential needs. So I’m badly in need of this financial aid. I want to take this course as I want to learn. This course will boost my job prospects after graduation from my institute. It will help perform better in understanding and learning this technology and give me an edge over my competitors. A verified certificate will attach credibility to the certificate I receive from this course.\""
      ],
      "execution_count": 15,
      "outputs": []
    },
    {
      "cell_type": "code",
      "metadata": {
        "colab": {
          "base_uri": "https://localhost:8080/"
        },
        "id": "3TExIalCD9t2",
        "outputId": "5078314e-6521-46a7-ebf3-ef0a86cf6974"
      },
      "source": [
        "regexp_tokenize(text,\"[a-z]+\") # prints all small case letters\n"
      ],
      "execution_count": 18,
      "outputs": [
        {
          "output_type": "execute_result",
          "data": {
            "text/plain": [
              "['y',\n",
              " 'own',\n",
              " 'to',\n",
              " 'carry',\n",
              " 'the',\n",
              " 'expenses',\n",
              " 'to',\n",
              " 'pay',\n",
              " 'for',\n",
              " 'the',\n",
              " 'certificate',\n",
              " 'of',\n",
              " 'this',\n",
              " 'course',\n",
              " 'live',\n",
              " 'only',\n",
              " 'for',\n",
              " 'my',\n",
              " 'scholarship',\n",
              " 'it',\n",
              " 'is',\n",
              " 'very',\n",
              " 'much',\n",
              " 'difficult',\n",
              " 'for',\n",
              " 'me',\n",
              " 'to',\n",
              " 'gather',\n",
              " 'such',\n",
              " 'amount',\n",
              " 'of',\n",
              " 'money',\n",
              " 'for',\n",
              " 'the',\n",
              " 'certificate',\n",
              " 'inancial',\n",
              " 'id',\n",
              " 'will',\n",
              " 'help',\n",
              " 'me',\n",
              " 'take',\n",
              " 'this',\n",
              " 'course',\n",
              " 'without',\n",
              " 'any',\n",
              " 'adverse',\n",
              " 'impact',\n",
              " 'on',\n",
              " 'my',\n",
              " 'monthly',\n",
              " 'essential',\n",
              " 'needs',\n",
              " 'o',\n",
              " 'm',\n",
              " 'badly',\n",
              " 'in',\n",
              " 'need',\n",
              " 'of',\n",
              " 'this',\n",
              " 'financial',\n",
              " 'aid',\n",
              " 'want',\n",
              " 'to',\n",
              " 'take',\n",
              " 'this',\n",
              " 'course',\n",
              " 'as',\n",
              " 'want',\n",
              " 'to',\n",
              " 'learn',\n",
              " 'his',\n",
              " 'course',\n",
              " 'will',\n",
              " 'boost',\n",
              " 'my',\n",
              " 'job',\n",
              " 'prospects',\n",
              " 'after',\n",
              " 'graduation',\n",
              " 'from',\n",
              " 'my',\n",
              " 'institute',\n",
              " 't',\n",
              " 'will',\n",
              " 'help',\n",
              " 'perform',\n",
              " 'better',\n",
              " 'in',\n",
              " 'understanding',\n",
              " 'and',\n",
              " 'learning',\n",
              " 'this',\n",
              " 'technology',\n",
              " 'and',\n",
              " 'give',\n",
              " 'me',\n",
              " 'an',\n",
              " 'edge',\n",
              " 'over',\n",
              " 'my',\n",
              " 'competitors',\n",
              " 'verified',\n",
              " 'certificate',\n",
              " 'will',\n",
              " 'attach',\n",
              " 'credibility',\n",
              " 'to',\n",
              " 'the',\n",
              " 'certificate',\n",
              " 'receive',\n",
              " 'from',\n",
              " 'this',\n",
              " 'course']"
            ]
          },
          "metadata": {
            "tags": []
          },
          "execution_count": 18
        }
      ]
    },
    {
      "cell_type": "code",
      "metadata": {
        "colab": {
          "base_uri": "https://localhost:8080/"
        },
        "id": "7UQyLyDaEUQV",
        "outputId": "3d17ec00-6e79-4466-8759-e51b49418d87"
      },
      "source": [
        "# gets the words like don't can't\n",
        "regexp_tokenize(text,\"[a-z']+\")"
      ],
      "execution_count": 20,
      "outputs": [
        {
          "output_type": "execute_result",
          "data": {
            "text/plain": [
              "['y',\n",
              " 'own',\n",
              " 'to',\n",
              " 'carry',\n",
              " 'the',\n",
              " 'expenses',\n",
              " 'to',\n",
              " 'pay',\n",
              " 'for',\n",
              " 'the',\n",
              " 'certificate',\n",
              " 'of',\n",
              " 'this',\n",
              " 'course',\n",
              " 'live',\n",
              " 'only',\n",
              " 'for',\n",
              " 'my',\n",
              " 'scholarship',\n",
              " 'it',\n",
              " 'is',\n",
              " 'very',\n",
              " 'much',\n",
              " 'difficult',\n",
              " 'for',\n",
              " 'me',\n",
              " 'to',\n",
              " 'gather',\n",
              " 'such',\n",
              " 'amount',\n",
              " 'of',\n",
              " 'money',\n",
              " 'for',\n",
              " 'the',\n",
              " 'certificate',\n",
              " 'inancial',\n",
              " 'id',\n",
              " 'will',\n",
              " 'help',\n",
              " 'me',\n",
              " 'take',\n",
              " 'this',\n",
              " 'course',\n",
              " 'without',\n",
              " 'any',\n",
              " 'adverse',\n",
              " 'impact',\n",
              " 'on',\n",
              " 'my',\n",
              " 'monthly',\n",
              " 'essential',\n",
              " 'needs',\n",
              " 'o',\n",
              " 'm',\n",
              " 'badly',\n",
              " 'in',\n",
              " 'need',\n",
              " 'of',\n",
              " 'this',\n",
              " 'financial',\n",
              " 'aid',\n",
              " 'want',\n",
              " 'to',\n",
              " 'take',\n",
              " 'this',\n",
              " 'course',\n",
              " 'as',\n",
              " 'want',\n",
              " 'to',\n",
              " 'learn',\n",
              " 'his',\n",
              " 'course',\n",
              " 'will',\n",
              " 'boost',\n",
              " 'my',\n",
              " 'job',\n",
              " 'prospects',\n",
              " 'after',\n",
              " 'graduation',\n",
              " 'from',\n",
              " 'my',\n",
              " 'institute',\n",
              " 't',\n",
              " 'will',\n",
              " 'help',\n",
              " 'perform',\n",
              " 'better',\n",
              " 'in',\n",
              " 'understanding',\n",
              " 'and',\n",
              " 'learning',\n",
              " 'this',\n",
              " 'technology',\n",
              " 'and',\n",
              " 'give',\n",
              " 'me',\n",
              " 'an',\n",
              " 'edge',\n",
              " 'over',\n",
              " 'my',\n",
              " 'competitors',\n",
              " 'verified',\n",
              " 'certificate',\n",
              " 'will',\n",
              " 'attach',\n",
              " 'credibility',\n",
              " 'to',\n",
              " 'the',\n",
              " 'certificate',\n",
              " 'receive',\n",
              " 'from',\n",
              " 'this',\n",
              " 'course']"
            ]
          },
          "metadata": {
            "tags": []
          },
          "execution_count": 20
        }
      ]
    },
    {
      "cell_type": "code",
      "metadata": {
        "colab": {
          "base_uri": "https://localhost:8080/"
        },
        "id": "hwGsL1oSFbq4",
        "outputId": "4161a551-db90-4763-9d3d-10d4c6dc7744"
      },
      "source": [
        "regexp_tokenize(text,\"[A-Z]+\") # prints all capital case letters\n"
      ],
      "execution_count": 21,
      "outputs": [
        {
          "output_type": "execute_result",
          "data": {
            "text/plain": [
              "['I', 'F', 'A', 'S', 'I', 'I', 'I', 'T', 'I', 'A', 'I']"
            ]
          },
          "metadata": {
            "tags": []
          },
          "execution_count": 21
        }
      ]
    },
    {
      "cell_type": "code",
      "metadata": {
        "id": "FSFbjxfYGEnR"
      },
      "source": [
        ""
      ],
      "execution_count": null,
      "outputs": []
    },
    {
      "cell_type": "code",
      "metadata": {
        "colab": {
          "base_uri": "https://localhost:8080/"
        },
        "id": "Fqyz_4shFxcn",
        "outputId": "00955bc0-a1f9-4c10-d184-af6f225d1a4b"
      },
      "source": [
        "regexp_tokenize(text,\"[\\a-z']+\") # everything in one line\n"
      ],
      "execution_count": 23,
      "outputs": [
        {
          "output_type": "execute_result",
          "data": {
            "text/plain": [
              "['y own to carry the expenses to pay for the certificate of this course. I live only for my scholarship, it is very much difficult for me to gather such amount of money for the certificate. Financial Aid will help me take this course without any adverse impact on my monthly essential needs. So I',\n",
              " 'm badly in need of this financial aid. I want to take this course as I want to learn. This course will boost my job prospects after graduation from my institute. It will help perform better in understanding and learning this technology and give me an edge over my competitors. A verified certificate will attach credibility to the certificate I receive from this course.']"
            ]
          },
          "metadata": {
            "tags": []
          },
          "execution_count": 23
        }
      ]
    },
    {
      "cell_type": "code",
      "metadata": {
        "colab": {
          "base_uri": "https://localhost:8080/"
        },
        "id": "CrwQbk4HF7Su",
        "outputId": "8b4605f2-5d2c-4316-ee47-157e2ccd3344"
      },
      "source": [
        "regexp_tokenize(text,\"[^a-z']+\")#anything starts with caret is not equal, all data except small letters"
      ],
      "execution_count": 24,
      "outputs": [
        {
          "output_type": "execute_result",
          "data": {
            "text/plain": [
              "[' ',\n",
              " ' ',\n",
              " ' ',\n",
              " ' ',\n",
              " ' ',\n",
              " ' ',\n",
              " ' ',\n",
              " ' ',\n",
              " ' ',\n",
              " ' ',\n",
              " ' ',\n",
              " ' ',\n",
              " ' ',\n",
              " '. I ',\n",
              " ' ',\n",
              " ' ',\n",
              " ' ',\n",
              " ' ',\n",
              " ', ',\n",
              " ' ',\n",
              " ' ',\n",
              " ' ',\n",
              " ' ',\n",
              " ' ',\n",
              " ' ',\n",
              " ' ',\n",
              " ' ',\n",
              " ' ',\n",
              " ' ',\n",
              " ' ',\n",
              " ' ',\n",
              " ' ',\n",
              " ' ',\n",
              " ' ',\n",
              " '. F',\n",
              " ' A',\n",
              " ' ',\n",
              " ' ',\n",
              " ' ',\n",
              " ' ',\n",
              " ' ',\n",
              " ' ',\n",
              " ' ',\n",
              " ' ',\n",
              " ' ',\n",
              " ' ',\n",
              " ' ',\n",
              " ' ',\n",
              " ' ',\n",
              " ' ',\n",
              " ' ',\n",
              " '. S',\n",
              " ' I’',\n",
              " ' ',\n",
              " ' ',\n",
              " ' ',\n",
              " ' ',\n",
              " ' ',\n",
              " ' ',\n",
              " ' ',\n",
              " '. I ',\n",
              " ' ',\n",
              " ' ',\n",
              " ' ',\n",
              " ' ',\n",
              " ' ',\n",
              " ' I ',\n",
              " ' ',\n",
              " ' ',\n",
              " '. T',\n",
              " ' ',\n",
              " ' ',\n",
              " ' ',\n",
              " ' ',\n",
              " ' ',\n",
              " ' ',\n",
              " ' ',\n",
              " ' ',\n",
              " ' ',\n",
              " ' ',\n",
              " ' ',\n",
              " '. I',\n",
              " ' ',\n",
              " ' ',\n",
              " ' ',\n",
              " ' ',\n",
              " ' ',\n",
              " ' ',\n",
              " ' ',\n",
              " ' ',\n",
              " ' ',\n",
              " ' ',\n",
              " ' ',\n",
              " ' ',\n",
              " ' ',\n",
              " ' ',\n",
              " ' ',\n",
              " ' ',\n",
              " ' ',\n",
              " ' ',\n",
              " '. A ',\n",
              " ' ',\n",
              " ' ',\n",
              " ' ',\n",
              " ' ',\n",
              " ' ',\n",
              " ' ',\n",
              " ' ',\n",
              " ' I ',\n",
              " ' ',\n",
              " ' ',\n",
              " ' ',\n",
              " '.']"
            ]
          },
          "metadata": {
            "tags": []
          },
          "execution_count": 24
        }
      ]
    },
    {
      "cell_type": "code",
      "metadata": {
        "colab": {
          "base_uri": "https://localhost:8080/"
        },
        "id": "x_pWFEddGVXg",
        "outputId": "7fff271c-e65e-4674-d464-e4c6436ed766"
      },
      "source": [
        "regexp_tokenize(text,\"[0-9]+\")"
      ],
      "execution_count": 25,
      "outputs": [
        {
          "output_type": "execute_result",
          "data": {
            "text/plain": [
              "[]"
            ]
          },
          "metadata": {
            "tags": []
          },
          "execution_count": 25
        }
      ]
    },
    {
      "cell_type": "code",
      "metadata": {
        "colab": {
          "base_uri": "https://localhost:8080/"
        },
        "id": "yiTU0kJ-GuHz",
        "outputId": "a36d3576-2ad8-4806-c357-2069b8e6ce2d"
      },
      "source": [
        "regexp_tokenize(text,\"[$]\")"
      ],
      "execution_count": 26,
      "outputs": [
        {
          "output_type": "execute_result",
          "data": {
            "text/plain": [
              "[]"
            ]
          },
          "metadata": {
            "tags": []
          },
          "execution_count": 26
        }
      ]
    },
    {
      "cell_type": "markdown",
      "metadata": {
        "id": "jvjg3LPDG9g5"
      },
      "source": [
        "***Stop words***"
      ]
    },
    {
      "cell_type": "code",
      "metadata": {
        "id": "gPpAa5MZG2Jj"
      },
      "source": [
        "#stop words are those words which are common in occurance such as 'a','an,'the',etc. we should ignore these words\n",
        "# while preprocessing as they do not give any meaningful information an dtakes additional space.\n",
        "#different libraries has different stop word list. look at nltk liberary."
      ],
      "execution_count": 29,
      "outputs": []
    },
    {
      "cell_type": "code",
      "metadata": {
        "colab": {
          "base_uri": "https://localhost:8080/"
        },
        "id": "3_EvKxHKI_UJ",
        "outputId": "1b257e3b-2bb1-4a14-baa9-fbd8a8be3584"
      },
      "source": [
        "from nltk.corpus import stopwords\n",
        "nltk.download('stopwords')"
      ],
      "execution_count": 32,
      "outputs": [
        {
          "output_type": "stream",
          "text": [
            "[nltk_data] Downloading package stopwords to /root/nltk_data...\n",
            "[nltk_data]   Unzipping corpora/stopwords.zip.\n"
          ],
          "name": "stdout"
        },
        {
          "output_type": "execute_result",
          "data": {
            "text/plain": [
              "True"
            ]
          },
          "metadata": {
            "tags": []
          },
          "execution_count": 32
        }
      ]
    },
    {
      "cell_type": "code",
      "metadata": {
        "colab": {
          "base_uri": "https://localhost:8080/"
        },
        "id": "Y5iUXsa2Jg2L",
        "outputId": "ea421e08-91b0-4bb7-dade-ed4898692ecb"
      },
      "source": [
        "stop_words=stopwords.words('english')\n",
        "print(stop_words)"
      ],
      "execution_count": 33,
      "outputs": [
        {
          "output_type": "stream",
          "text": [
            "['i', 'me', 'my', 'myself', 'we', 'our', 'ours', 'ourselves', 'you', \"you're\", \"you've\", \"you'll\", \"you'd\", 'your', 'yours', 'yourself', 'yourselves', 'he', 'him', 'his', 'himself', 'she', \"she's\", 'her', 'hers', 'herself', 'it', \"it's\", 'its', 'itself', 'they', 'them', 'their', 'theirs', 'themselves', 'what', 'which', 'who', 'whom', 'this', 'that', \"that'll\", 'these', 'those', 'am', 'is', 'are', 'was', 'were', 'be', 'been', 'being', 'have', 'has', 'had', 'having', 'do', 'does', 'did', 'doing', 'a', 'an', 'the', 'and', 'but', 'if', 'or', 'because', 'as', 'until', 'while', 'of', 'at', 'by', 'for', 'with', 'about', 'against', 'between', 'into', 'through', 'during', 'before', 'after', 'above', 'below', 'to', 'from', 'up', 'down', 'in', 'out', 'on', 'off', 'over', 'under', 'again', 'further', 'then', 'once', 'here', 'there', 'when', 'where', 'why', 'how', 'all', 'any', 'both', 'each', 'few', 'more', 'most', 'other', 'some', 'such', 'no', 'nor', 'not', 'only', 'own', 'same', 'so', 'than', 'too', 'very', 's', 't', 'can', 'will', 'just', 'don', \"don't\", 'should', \"should've\", 'now', 'd', 'll', 'm', 'o', 're', 've', 'y', 'ain', 'aren', \"aren't\", 'couldn', \"couldn't\", 'didn', \"didn't\", 'doesn', \"doesn't\", 'hadn', \"hadn't\", 'hasn', \"hasn't\", 'haven', \"haven't\", 'isn', \"isn't\", 'ma', 'mightn', \"mightn't\", 'mustn', \"mustn't\", 'needn', \"needn't\", 'shan', \"shan't\", 'shouldn', \"shouldn't\", 'wasn', \"wasn't\", 'weren', \"weren't\", 'won', \"won't\", 'wouldn', \"wouldn't\"]\n"
          ],
          "name": "stdout"
        }
      ]
    },
    {
      "cell_type": "code",
      "metadata": {
        "colab": {
          "base_uri": "https://localhost:8080/"
        },
        "id": "jNssms05J6Kt",
        "outputId": "ac29311d-b8f9-4e63-ac11-1f54036c8b80"
      },
      "source": [
        "len(stop_words)"
      ],
      "execution_count": 34,
      "outputs": [
        {
          "output_type": "execute_result",
          "data": {
            "text/plain": [
              "179"
            ]
          },
          "metadata": {
            "tags": []
          },
          "execution_count": 34
        }
      ]
    },
    {
      "cell_type": "code",
      "metadata": {
        "id": "MEfaKOGiMi5Q"
      },
      "source": [
        "stopset=set(nltk.corpus.stopwords.words('english'))#alternate method"
      ],
      "execution_count": 37,
      "outputs": []
    },
    {
      "cell_type": "code",
      "metadata": {
        "colab": {
          "base_uri": "https://localhost:8080/"
        },
        "id": "AUqL0xVUMz0N",
        "outputId": "df6894e4-b51d-4ed2-9e8c-6464a705d461"
      },
      "source": [
        "len(stopset)"
      ],
      "execution_count": 38,
      "outputs": [
        {
          "output_type": "execute_result",
          "data": {
            "text/plain": [
              "179"
            ]
          },
          "metadata": {
            "tags": []
          },
          "execution_count": 38
        }
      ]
    },
    {
      "cell_type": "code",
      "metadata": {
        "colab": {
          "base_uri": "https://localhost:8080/"
        },
        "id": "iqt6z_mSNqlc",
        "outputId": "703be053-1409-4bf3-d647-1044a4c42a3a"
      },
      "source": [
        "stopset.update(('new','old')) #adding new stop words\n",
        "len(stopset)"
      ],
      "execution_count": 42,
      "outputs": [
        {
          "output_type": "execute_result",
          "data": {
            "text/plain": [
              "181"
            ]
          },
          "metadata": {
            "tags": []
          },
          "execution_count": 42
        }
      ]
    },
    {
      "cell_type": "code",
      "metadata": {
        "id": "QvsGiIhXM2rZ"
      },
      "source": [
        "#similiar to stop words we can ignore punctuations in our sentence"
      ],
      "execution_count": 43,
      "outputs": []
    },
    {
      "cell_type": "code",
      "metadata": {
        "id": "--3E6kqQNfp8"
      },
      "source": [
        "import string"
      ],
      "execution_count": 44,
      "outputs": []
    },
    {
      "cell_type": "code",
      "metadata": {
        "colab": {
          "base_uri": "https://localhost:8080/",
          "height": 35
        },
        "id": "1hwi-9b0Njq2",
        "outputId": "facdefc1-fbab-4ec9-8e0e-66b8c45ae694"
      },
      "source": [
        "string.punctuation"
      ],
      "execution_count": 45,
      "outputs": [
        {
          "output_type": "execute_result",
          "data": {
            "application/vnd.google.colaboratory.intrinsic+json": {
              "type": "string"
            },
            "text/plain": [
              "'!\"#$%&\\'()*+,-./:;<=>?@[\\\\]^_`{|}~'"
            ]
          },
          "metadata": {
            "tags": []
          },
          "execution_count": 45
        }
      ]
    },
    {
      "cell_type": "code",
      "metadata": {
        "id": "DMU0yEB9OD4R"
      },
      "source": [
        "#remove stopwords and punctuations from the above texts\n",
        "import nltk\n",
        "import string\n",
        "from nltk.corpus import stopwords\n",
        "stop_words=stopwords.words('english')\n",
        "punct=string.punctuation\n"
      ],
      "execution_count": 46,
      "outputs": []
    },
    {
      "cell_type": "code",
      "metadata": {
        "colab": {
          "base_uri": "https://localhost:8080/"
        },
        "id": "Kr031ih3OhW6",
        "outputId": "b06cc7cd-3653-4b33-c5de-fd107ce3348c"
      },
      "source": [
        "stop_words"
      ],
      "execution_count": 47,
      "outputs": [
        {
          "output_type": "execute_result",
          "data": {
            "text/plain": [
              "['i',\n",
              " 'me',\n",
              " 'my',\n",
              " 'myself',\n",
              " 'we',\n",
              " 'our',\n",
              " 'ours',\n",
              " 'ourselves',\n",
              " 'you',\n",
              " \"you're\",\n",
              " \"you've\",\n",
              " \"you'll\",\n",
              " \"you'd\",\n",
              " 'your',\n",
              " 'yours',\n",
              " 'yourself',\n",
              " 'yourselves',\n",
              " 'he',\n",
              " 'him',\n",
              " 'his',\n",
              " 'himself',\n",
              " 'she',\n",
              " \"she's\",\n",
              " 'her',\n",
              " 'hers',\n",
              " 'herself',\n",
              " 'it',\n",
              " \"it's\",\n",
              " 'its',\n",
              " 'itself',\n",
              " 'they',\n",
              " 'them',\n",
              " 'their',\n",
              " 'theirs',\n",
              " 'themselves',\n",
              " 'what',\n",
              " 'which',\n",
              " 'who',\n",
              " 'whom',\n",
              " 'this',\n",
              " 'that',\n",
              " \"that'll\",\n",
              " 'these',\n",
              " 'those',\n",
              " 'am',\n",
              " 'is',\n",
              " 'are',\n",
              " 'was',\n",
              " 'were',\n",
              " 'be',\n",
              " 'been',\n",
              " 'being',\n",
              " 'have',\n",
              " 'has',\n",
              " 'had',\n",
              " 'having',\n",
              " 'do',\n",
              " 'does',\n",
              " 'did',\n",
              " 'doing',\n",
              " 'a',\n",
              " 'an',\n",
              " 'the',\n",
              " 'and',\n",
              " 'but',\n",
              " 'if',\n",
              " 'or',\n",
              " 'because',\n",
              " 'as',\n",
              " 'until',\n",
              " 'while',\n",
              " 'of',\n",
              " 'at',\n",
              " 'by',\n",
              " 'for',\n",
              " 'with',\n",
              " 'about',\n",
              " 'against',\n",
              " 'between',\n",
              " 'into',\n",
              " 'through',\n",
              " 'during',\n",
              " 'before',\n",
              " 'after',\n",
              " 'above',\n",
              " 'below',\n",
              " 'to',\n",
              " 'from',\n",
              " 'up',\n",
              " 'down',\n",
              " 'in',\n",
              " 'out',\n",
              " 'on',\n",
              " 'off',\n",
              " 'over',\n",
              " 'under',\n",
              " 'again',\n",
              " 'further',\n",
              " 'then',\n",
              " 'once',\n",
              " 'here',\n",
              " 'there',\n",
              " 'when',\n",
              " 'where',\n",
              " 'why',\n",
              " 'how',\n",
              " 'all',\n",
              " 'any',\n",
              " 'both',\n",
              " 'each',\n",
              " 'few',\n",
              " 'more',\n",
              " 'most',\n",
              " 'other',\n",
              " 'some',\n",
              " 'such',\n",
              " 'no',\n",
              " 'nor',\n",
              " 'not',\n",
              " 'only',\n",
              " 'own',\n",
              " 'same',\n",
              " 'so',\n",
              " 'than',\n",
              " 'too',\n",
              " 'very',\n",
              " 's',\n",
              " 't',\n",
              " 'can',\n",
              " 'will',\n",
              " 'just',\n",
              " 'don',\n",
              " \"don't\",\n",
              " 'should',\n",
              " \"should've\",\n",
              " 'now',\n",
              " 'd',\n",
              " 'll',\n",
              " 'm',\n",
              " 'o',\n",
              " 're',\n",
              " 've',\n",
              " 'y',\n",
              " 'ain',\n",
              " 'aren',\n",
              " \"aren't\",\n",
              " 'couldn',\n",
              " \"couldn't\",\n",
              " 'didn',\n",
              " \"didn't\",\n",
              " 'doesn',\n",
              " \"doesn't\",\n",
              " 'hadn',\n",
              " \"hadn't\",\n",
              " 'hasn',\n",
              " \"hasn't\",\n",
              " 'haven',\n",
              " \"haven't\",\n",
              " 'isn',\n",
              " \"isn't\",\n",
              " 'ma',\n",
              " 'mightn',\n",
              " \"mightn't\",\n",
              " 'mustn',\n",
              " \"mustn't\",\n",
              " 'needn',\n",
              " \"needn't\",\n",
              " 'shan',\n",
              " \"shan't\",\n",
              " 'shouldn',\n",
              " \"shouldn't\",\n",
              " 'wasn',\n",
              " \"wasn't\",\n",
              " 'weren',\n",
              " \"weren't\",\n",
              " 'won',\n",
              " \"won't\",\n",
              " 'wouldn',\n",
              " \"wouldn't\"]"
            ]
          },
          "metadata": {
            "tags": []
          },
          "execution_count": 47
        }
      ]
    },
    {
      "cell_type": "code",
      "metadata": {
        "colab": {
          "base_uri": "https://localhost:8080/",
          "height": 35
        },
        "id": "JGhqDKu-OknZ",
        "outputId": "448b94b6-fcce-4101-f164-978a296bfcb1"
      },
      "source": [
        "punct"
      ],
      "execution_count": 48,
      "outputs": [
        {
          "output_type": "execute_result",
          "data": {
            "application/vnd.google.colaboratory.intrinsic+json": {
              "type": "string"
            },
            "text/plain": [
              "'!\"#$%&\\'()*+,-./:;<=>?@[\\\\]^_`{|}~'"
            ]
          },
          "metadata": {
            "tags": []
          },
          "execution_count": 48
        }
      ]
    },
    {
      "cell_type": "code",
      "metadata": {
        "colab": {
          "base_uri": "https://localhost:8080/"
        },
        "id": "L0iiWtjDOnb8",
        "outputId": "0a26e38b-7311-4793-818d-3af462962e4d"
      },
      "source": [
        "text=\"prospects after graduation from my institute. It will help perform better in understanding and learning this technology and give me an edge over my competitors. A verified certificate will attach credibility to the certificate I receive from this course. I plan to complete all assignments on or before time as I have done in previous Courses. Also, I intend to participate in Discussion Forums, which I have found to supplement my learning immensely in the other online courses I have taken on Coursera. I also plan to grade assignments that are to peer-reviewed which I believe will an invaluable learning opportunity.\"\n",
        "cleaned_text=[]\n",
        "for word in nltk.word_tokenize(text):\n",
        "  if word not in punct:\n",
        "    if word not in stop_words:\n",
        "      cleaned_text.append(word)\n",
        "print(\"orirginal length ==>\",len(text))\n",
        "print(\"length of cleaned text ==>\",len(cleaned_text))\n",
        "print(\"\\n\",cleaned_text)\n"
      ],
      "execution_count": 58,
      "outputs": [
        {
          "output_type": "stream",
          "text": [
            "orirginal length ==> 620\n",
            "length of cleaned text ==> 58\n",
            "\n",
            " ['prospects', 'graduation', 'institute', 'It', 'help', 'perform', 'better', 'understanding', 'learning', 'technology', 'give', 'edge', 'competitors', 'A', 'verified', 'certificate', 'attach', 'credibility', 'certificate', 'I', 'receive', 'course', 'I', 'plan', 'complete', 'assignments', 'time', 'I', 'done', 'previous', 'Courses', 'Also', 'I', 'intend', 'participate', 'Discussion', 'Forums', 'I', 'found', 'supplement', 'learning', 'immensely', 'online', 'courses', 'I', 'taken', 'Coursera', 'I', 'also', 'plan', 'grade', 'assignments', 'peer-reviewed', 'I', 'believe', 'invaluable', 'learning', 'opportunity']\n"
          ],
          "name": "stdout"
        }
      ]
    },
    {
      "cell_type": "code",
      "metadata": {
        "colab": {
          "base_uri": "https://localhost:8080/"
        },
        "id": "NhFrkm1RQYy3",
        "outputId": "06f19c86-0a87-44d3-9bff-790a0ccdffc1"
      },
      "source": [
        "print(text.lower())"
      ],
      "execution_count": 60,
      "outputs": [
        {
          "output_type": "stream",
          "text": [
            "prospects after graduation from my institute. it will help perform better in understanding and learning this technology and give me an edge over my competitors. a verified certificate will attach credibility to the certificate i receive from this course. i plan to complete all assignments on or before time as i have done in previous courses. also, i intend to participate in discussion forums, which i have found to supplement my learning immensely in the other online courses i have taken on coursera. i also plan to grade assignments that are to peer-reviewed which i believe will an invaluable learning opportunity.\n"
          ],
          "name": "stdout"
        }
      ]
    },
    {
      "cell_type": "code",
      "metadata": {
        "colab": {
          "base_uri": "https://localhost:8080/"
        },
        "id": "_eAaB9POSNsY",
        "outputId": "5a30257f-a70c-4bda-825e-1c4263f87895"
      },
      "source": [
        "print(text.upper())"
      ],
      "execution_count": 61,
      "outputs": [
        {
          "output_type": "stream",
          "text": [
            "PROSPECTS AFTER GRADUATION FROM MY INSTITUTE. IT WILL HELP PERFORM BETTER IN UNDERSTANDING AND LEARNING THIS TECHNOLOGY AND GIVE ME AN EDGE OVER MY COMPETITORS. A VERIFIED CERTIFICATE WILL ATTACH CREDIBILITY TO THE CERTIFICATE I RECEIVE FROM THIS COURSE. I PLAN TO COMPLETE ALL ASSIGNMENTS ON OR BEFORE TIME AS I HAVE DONE IN PREVIOUS COURSES. ALSO, I INTEND TO PARTICIPATE IN DISCUSSION FORUMS, WHICH I HAVE FOUND TO SUPPLEMENT MY LEARNING IMMENSELY IN THE OTHER ONLINE COURSES I HAVE TAKEN ON COURSERA. I ALSO PLAN TO GRADE ASSIGNMENTS THAT ARE TO PEER-REVIEWED WHICH I BELIEVE WILL AN INVALUABLE LEARNING OPPORTUNITY.\n"
          ],
          "name": "stdout"
        }
      ]
    },
    {
      "cell_type": "markdown",
      "metadata": {
        "id": "NSeA10bcS7NH"
      },
      "source": [
        ""
      ]
    },
    {
      "cell_type": "markdown",
      "metadata": {
        "id": "izcytgiXSbBJ"
      },
      "source": [
        "***Lemmatization, stemming, wordnet***"
      ]
    },
    {
      "cell_type": "markdown",
      "metadata": {
        "id": "5ANH2AfGS9Ga"
      },
      "source": [
        "**Stemming** means mapping the group of words to same stem by removing prefixes and suffixes without any grammitical meaning.\n",
        "example:\n",
        " computation--> comput\n",
        " computer --> comput\n",
        " hobbies-->hobbi\n",
        "\n",
        " two types of stemmer in nltk \n",
        " 1) Porter Stemmer\n",
        " 2) Lancaster Stemmer\n",
        " 3) Snowball Stemmer"
      ]
    },
    {
      "cell_type": "code",
      "metadata": {
        "id": "1LxURP9wS8s2"
      },
      "source": [
        "import nltk\n",
        "from nltk.stem import PorterStemmer, LancasterStemmer,SnowballStemmer"
      ],
      "execution_count": 62,
      "outputs": []
    },
    {
      "cell_type": "code",
      "metadata": {
        "colab": {
          "base_uri": "https://localhost:8080/"
        },
        "id": "CvTypOuESW7H",
        "outputId": "5d88438c-e3cd-4d1e-f826-bb30ccff23f1"
      },
      "source": [
        "lancaster =LancasterStemmer()\n",
        "porter=PorterStemmer()\n",
        "Snowball=SnowballStemmer('english')\n",
        "print(\"Porter Stemmer\")\n",
        "print(porter.stem(\"Hobby\"))\n",
        "print(porter.stem(\"Hobbies\"))\n",
        "print(porter.stem(\"computer\"))\n",
        "print(porter.stem(\"computation\"))\n",
        "print(\"*****************************************\")\n",
        "\n",
        "print(\"lancaster Stemmer\")\n",
        "print(lancaster.stem(\"Hobby\"))\n",
        "print(lancaster.stem(\"Hobbies\"))\n",
        "print(lancaster.stem(\"computer\"))\n",
        "print(lancaster.stem(\"computation\"))\n",
        "print(\"****************************************\")\n",
        "\n",
        "\n",
        "\n",
        "\n",
        "\n",
        "\n",
        "\n",
        "\n",
        "\n",
        "\n",
        "\n"
      ],
      "execution_count": 63,
      "outputs": [
        {
          "output_type": "stream",
          "text": [
            "Porter Stemmer\n",
            "hobbi\n",
            "hobbi\n",
            "comput\n",
            "comput\n",
            "*****************************************\n",
            "lancaster Stemmer\n",
            "hobby\n",
            "hobby\n",
            "comput\n",
            "comput\n",
            "****************************************\n"
          ],
          "name": "stdout"
        }
      ]
    },
    {
      "cell_type": "code",
      "metadata": {
        "colab": {
          "base_uri": "https://localhost:8080/"
        },
        "id": "WLM30_0fW8Nq",
        "outputId": "2eddf647-6999-4d99-dc5e-6b447b3074a9"
      },
      "source": [
        "#with a sentence\n",
        "sentence=\" I also plan to grade assignments that are to peer-reviewed which I believe will an invaluable learning opportunity.\"\n",
        "token=list(nltk.word_tokenize(sentence))\n",
        "token"
      ],
      "execution_count": 64,
      "outputs": [
        {
          "output_type": "execute_result",
          "data": {
            "text/plain": [
              "['I',\n",
              " 'also',\n",
              " 'plan',\n",
              " 'to',\n",
              " 'grade',\n",
              " 'assignments',\n",
              " 'that',\n",
              " 'are',\n",
              " 'to',\n",
              " 'peer-reviewed',\n",
              " 'which',\n",
              " 'I',\n",
              " 'believe',\n",
              " 'will',\n",
              " 'an',\n",
              " 'invaluable',\n",
              " 'learning',\n",
              " 'opportunity',\n",
              " '.']"
            ]
          },
          "metadata": {
            "tags": []
          },
          "execution_count": 64
        }
      ]
    },
    {
      "cell_type": "code",
      "metadata": {
        "colab": {
          "base_uri": "https://localhost:8080/",
          "height": 35
        },
        "id": "Zcp9By3yXk0B",
        "outputId": "af639220-f3c3-4447-cb4c-1f9c314dfeab"
      },
      "source": [
        "sentence"
      ],
      "execution_count": 65,
      "outputs": [
        {
          "output_type": "execute_result",
          "data": {
            "application/vnd.google.colaboratory.intrinsic+json": {
              "type": "string"
            },
            "text/plain": [
              "' I also plan to grade assignments that are to peer-reviewed which I believe will an invaluable learning opportunity.'"
            ]
          },
          "metadata": {
            "tags": []
          },
          "execution_count": 65
        }
      ]
    },
    {
      "cell_type": "code",
      "metadata": {
        "colab": {
          "base_uri": "https://localhost:8080/"
        },
        "id": "ZpukRN5UXn-H",
        "outputId": "87520ad6-d9c6-4323-eed2-f75d30e4af1b"
      },
      "source": [
        "for stemmer in (Snowball,lancaster,porter):\n",
        "  stemm=[stemmer.stem(t) for t in token]\n",
        "  print(\" \".join(stemm))"
      ],
      "execution_count": 67,
      "outputs": [
        {
          "output_type": "stream",
          "text": [
            "i also plan to grade assign that are to peer-review which i believ will an invalu learn opportun .\n",
            "i also plan to grad assign that ar to peer-reviewed which i believ wil an invalu learn opportun .\n",
            "I also plan to grade assign that are to peer-review which I believ will an invalu learn opportun .\n"
          ],
          "name": "stdout"
        }
      ]
    },
    {
      "cell_type": "markdown",
      "metadata": {
        "id": "ztaOhWoOYP2Q"
      },
      "source": [
        "lancaster is faster than porter but it is more complex.\n",
        "\n",
        "porter is the oldest algorithm present\n",
        "\n",
        "\n",
        "Snowball is also known as porter2, updated version of porter\n",
        "\n",
        "\n",
        "Snowball is available in mutiple languages\n",
        "\n"
      ]
    },
    {
      "cell_type": "code",
      "metadata": {
        "colab": {
          "base_uri": "https://localhost:8080/"
        },
        "id": "8uNkXmGiYEcf",
        "outputId": "f9510c1e-dc56-491f-ac41-b1272b321242"
      },
      "source": [
        "print(porter.stem(\"running\"))\n",
        "print(porter.stem(\"runs\"))\n",
        "print(porter.stem(\"ran\"))\n"
      ],
      "execution_count": 68,
      "outputs": [
        {
          "output_type": "stream",
          "text": [
            "run\n",
            "run\n",
            "ran\n"
          ],
          "name": "stdout"
        }
      ]
    },
    {
      "cell_type": "markdown",
      "metadata": {
        "id": "gUN-U7aQY6q1"
      },
      "source": [
        "***Lemmatization***\n",
        "\n",
        "\n",
        "does same thing as stemming and tries to bring words to base form.\n",
        "\n",
        "\n",
        "makes sure the word belongs to particular language\n",
        "\n",
        "\n",
        "base word is known as **Lemma**\n",
        "\n",
        "\n",
        "we use WordNet Lemmatizer for Lemmatization in nltk"
      ]
    },
    {
      "cell_type": "code",
      "metadata": {
        "colab": {
          "base_uri": "https://localhost:8080/"
        },
        "id": "9Eb6TcwHY4jO",
        "outputId": "a6ee584b-3d0d-4b64-820d-840a6002d8d2"
      },
      "source": [
        "from nltk.stem import WordNetLemmatizer\n",
        "nltk.download('wordnet')"
      ],
      "execution_count": 71,
      "outputs": [
        {
          "output_type": "stream",
          "text": [
            "[nltk_data] Downloading package wordnet to /root/nltk_data...\n",
            "[nltk_data]   Unzipping corpora/wordnet.zip.\n"
          ],
          "name": "stdout"
        },
        {
          "output_type": "execute_result",
          "data": {
            "text/plain": [
              "True"
            ]
          },
          "metadata": {
            "tags": []
          },
          "execution_count": 71
        }
      ]
    },
    {
      "cell_type": "code",
      "metadata": {
        "colab": {
          "base_uri": "https://localhost:8080/"
        },
        "id": "dqpDUz4KZf9Q",
        "outputId": "60c9caed-1069-4288-ef87-226b5c28e9d0"
      },
      "source": [
        "lemma =WordNetLemmatizer()\n",
        "print(lemma.lemmatize('running'))\n",
        "print(lemma.lemmatize('ran'))\n",
        "print(lemma.lemmatize('runs'))\n",
        "\n"
      ],
      "execution_count": 72,
      "outputs": [
        {
          "output_type": "stream",
          "text": [
            "running\n",
            "ran\n",
            "run\n"
          ],
          "name": "stdout"
        }
      ]
    },
    {
      "cell_type": "code",
      "metadata": {
        "colab": {
          "base_uri": "https://localhost:8080/"
        },
        "id": "-g7SQdVeZxoy",
        "outputId": "80747dc2-e591-48ee-c292-a906777fbbe1"
      },
      "source": [
        "print(lemma.lemmatize('running',pos='v'))\n",
        "print(lemma.lemmatize('ran',pos='v'))\n",
        "print(lemma.lemmatize('runs',pos='v'))\n",
        "\n",
        "## stemming is prefered when meaning of the word is not important"
      ],
      "execution_count": 74,
      "outputs": [
        {
          "output_type": "stream",
          "text": [
            "run\n",
            "run\n",
            "run\n"
          ],
          "name": "stdout"
        }
      ]
    },
    {
      "cell_type": "code",
      "metadata": {
        "colab": {
          "base_uri": "https://localhost:8080/"
        },
        "id": "Q5Eo3lOcap2T",
        "outputId": "af1b1e0b-158c-4672-94d3-035c78cdce6d"
      },
      "source": [
        "text=\"bring king going anything sing ring nothing thing\"\n",
        "import nltk\n",
        "from nltk.stem.porter import PorterStemmer\n",
        "porter_stemmer=PorterStemmer()\n",
        "tokenization=nltk.word_tokenize(text)\n",
        "for w in tokenization:\n",
        "  print(\"Stemming for {} is  {}\".format(w,porter_stemmer.stem(w)))"
      ],
      "execution_count": 75,
      "outputs": [
        {
          "output_type": "stream",
          "text": [
            "Stemming for bring is  bring\n",
            "Stemming for king is  king\n",
            "Stemming for going is  go\n",
            "Stemming for anything is  anyth\n",
            "Stemming for sing is  sing\n",
            "Stemming for ring is  ring\n",
            "Stemming for nothing is  noth\n",
            "Stemming for thing is  thing\n"
          ],
          "name": "stdout"
        }
      ]
    },
    {
      "cell_type": "code",
      "metadata": {
        "colab": {
          "base_uri": "https://localhost:8080/"
        },
        "id": "KboWNmDmbtJ6",
        "outputId": "1b8c1c54-cbd7-4ff1-f8ef-d9c005212529"
      },
      "source": [
        "nltk.download('all')\n",
        "from nltk.stem import WordNetLemmatizer\n",
        "wordnet_lemmatizer=WordNetLemmatizer()\n",
        "tokenization=nltk.word_tokenize(text)\n",
        "for w in tokenization:\n",
        "  print(\"Lemma for {} is  {}\".format(w,wordnet_lemmatizer.lemmatize(w)))"
      ],
      "execution_count": 79,
      "outputs": [
        {
          "output_type": "stream",
          "text": [
            "[nltk_data] Downloading collection 'all'\n",
            "[nltk_data]    | \n",
            "[nltk_data]    | Downloading package abc to /root/nltk_data...\n",
            "[nltk_data]    |   Package abc is already up-to-date!\n",
            "[nltk_data]    | Downloading package alpino to /root/nltk_data...\n",
            "[nltk_data]    |   Package alpino is already up-to-date!\n",
            "[nltk_data]    | Downloading package biocreative_ppi to\n",
            "[nltk_data]    |     /root/nltk_data...\n",
            "[nltk_data]    |   Package biocreative_ppi is already up-to-date!\n",
            "[nltk_data]    | Downloading package brown to /root/nltk_data...\n",
            "[nltk_data]    |   Package brown is already up-to-date!\n",
            "[nltk_data]    | Downloading package brown_tei to /root/nltk_data...\n",
            "[nltk_data]    |   Package brown_tei is already up-to-date!\n",
            "[nltk_data]    | Downloading package cess_cat to /root/nltk_data...\n",
            "[nltk_data]    |   Package cess_cat is already up-to-date!\n",
            "[nltk_data]    | Downloading package cess_esp to /root/nltk_data...\n",
            "[nltk_data]    |   Package cess_esp is already up-to-date!\n",
            "[nltk_data]    | Downloading package chat80 to /root/nltk_data...\n",
            "[nltk_data]    |   Package chat80 is already up-to-date!\n",
            "[nltk_data]    | Downloading package city_database to\n",
            "[nltk_data]    |     /root/nltk_data...\n",
            "[nltk_data]    |   Package city_database is already up-to-date!\n",
            "[nltk_data]    | Downloading package cmudict to /root/nltk_data...\n",
            "[nltk_data]    |   Package cmudict is already up-to-date!\n",
            "[nltk_data]    | Downloading package comparative_sentences to\n",
            "[nltk_data]    |     /root/nltk_data...\n",
            "[nltk_data]    |   Package comparative_sentences is already up-to-\n",
            "[nltk_data]    |       date!\n",
            "[nltk_data]    | Downloading package comtrans to /root/nltk_data...\n",
            "[nltk_data]    |   Package comtrans is already up-to-date!\n",
            "[nltk_data]    | Downloading package conll2000 to /root/nltk_data...\n",
            "[nltk_data]    |   Package conll2000 is already up-to-date!\n",
            "[nltk_data]    | Downloading package conll2002 to /root/nltk_data...\n",
            "[nltk_data]    |   Package conll2002 is already up-to-date!\n",
            "[nltk_data]    | Downloading package conll2007 to /root/nltk_data...\n",
            "[nltk_data]    |   Package conll2007 is already up-to-date!\n",
            "[nltk_data]    | Downloading package crubadan to /root/nltk_data...\n",
            "[nltk_data]    |   Package crubadan is already up-to-date!\n",
            "[nltk_data]    | Downloading package dependency_treebank to\n",
            "[nltk_data]    |     /root/nltk_data...\n",
            "[nltk_data]    |   Package dependency_treebank is already up-to-date!\n",
            "[nltk_data]    | Downloading package dolch to /root/nltk_data...\n",
            "[nltk_data]    |   Package dolch is already up-to-date!\n",
            "[nltk_data]    | Downloading package europarl_raw to\n",
            "[nltk_data]    |     /root/nltk_data...\n",
            "[nltk_data]    |   Package europarl_raw is already up-to-date!\n",
            "[nltk_data]    | Downloading package floresta to /root/nltk_data...\n",
            "[nltk_data]    |   Package floresta is already up-to-date!\n",
            "[nltk_data]    | Downloading package framenet_v15 to\n",
            "[nltk_data]    |     /root/nltk_data...\n",
            "[nltk_data]    |   Package framenet_v15 is already up-to-date!\n",
            "[nltk_data]    | Downloading package framenet_v17 to\n",
            "[nltk_data]    |     /root/nltk_data...\n",
            "[nltk_data]    |   Package framenet_v17 is already up-to-date!\n",
            "[nltk_data]    | Downloading package gazetteers to /root/nltk_data...\n",
            "[nltk_data]    |   Package gazetteers is already up-to-date!\n",
            "[nltk_data]    | Downloading package genesis to /root/nltk_data...\n",
            "[nltk_data]    |   Package genesis is already up-to-date!\n",
            "[nltk_data]    | Downloading package gutenberg to /root/nltk_data...\n",
            "[nltk_data]    |   Package gutenberg is already up-to-date!\n",
            "[nltk_data]    | Downloading package ieer to /root/nltk_data...\n",
            "[nltk_data]    |   Package ieer is already up-to-date!\n",
            "[nltk_data]    | Downloading package inaugural to /root/nltk_data...\n",
            "[nltk_data]    |   Package inaugural is already up-to-date!\n",
            "[nltk_data]    | Downloading package indian to /root/nltk_data...\n",
            "[nltk_data]    |   Package indian is already up-to-date!\n",
            "[nltk_data]    | Downloading package jeita to /root/nltk_data...\n",
            "[nltk_data]    |   Package jeita is already up-to-date!\n",
            "[nltk_data]    | Downloading package kimmo to /root/nltk_data...\n",
            "[nltk_data]    |   Package kimmo is already up-to-date!\n",
            "[nltk_data]    | Downloading package knbc to /root/nltk_data...\n",
            "[nltk_data]    |   Package knbc is already up-to-date!\n",
            "[nltk_data]    | Downloading package lin_thesaurus to\n",
            "[nltk_data]    |     /root/nltk_data...\n",
            "[nltk_data]    |   Package lin_thesaurus is already up-to-date!\n",
            "[nltk_data]    | Downloading package mac_morpho to /root/nltk_data...\n",
            "[nltk_data]    |   Package mac_morpho is already up-to-date!\n",
            "[nltk_data]    | Downloading package machado to /root/nltk_data...\n",
            "[nltk_data]    |   Package machado is already up-to-date!\n",
            "[nltk_data]    | Downloading package masc_tagged to /root/nltk_data...\n",
            "[nltk_data]    |   Package masc_tagged is already up-to-date!\n",
            "[nltk_data]    | Downloading package moses_sample to\n",
            "[nltk_data]    |     /root/nltk_data...\n",
            "[nltk_data]    |   Package moses_sample is already up-to-date!\n",
            "[nltk_data]    | Downloading package movie_reviews to\n",
            "[nltk_data]    |     /root/nltk_data...\n",
            "[nltk_data]    |   Package movie_reviews is already up-to-date!\n",
            "[nltk_data]    | Downloading package names to /root/nltk_data...\n",
            "[nltk_data]    |   Package names is already up-to-date!\n",
            "[nltk_data]    | Downloading package nombank.1.0 to /root/nltk_data...\n",
            "[nltk_data]    |   Package nombank.1.0 is already up-to-date!\n",
            "[nltk_data]    | Downloading package nps_chat to /root/nltk_data...\n",
            "[nltk_data]    |   Package nps_chat is already up-to-date!\n",
            "[nltk_data]    | Downloading package omw to /root/nltk_data...\n",
            "[nltk_data]    |   Package omw is already up-to-date!\n",
            "[nltk_data]    | Downloading package opinion_lexicon to\n",
            "[nltk_data]    |     /root/nltk_data...\n",
            "[nltk_data]    |   Package opinion_lexicon is already up-to-date!\n",
            "[nltk_data]    | Downloading package paradigms to /root/nltk_data...\n",
            "[nltk_data]    |   Package paradigms is already up-to-date!\n",
            "[nltk_data]    | Downloading package pil to /root/nltk_data...\n",
            "[nltk_data]    |   Package pil is already up-to-date!\n",
            "[nltk_data]    | Downloading package pl196x to /root/nltk_data...\n",
            "[nltk_data]    |   Package pl196x is already up-to-date!\n",
            "[nltk_data]    | Downloading package ppattach to /root/nltk_data...\n",
            "[nltk_data]    |   Package ppattach is already up-to-date!\n",
            "[nltk_data]    | Downloading package problem_reports to\n",
            "[nltk_data]    |     /root/nltk_data...\n",
            "[nltk_data]    |   Package problem_reports is already up-to-date!\n",
            "[nltk_data]    | Downloading package propbank to /root/nltk_data...\n",
            "[nltk_data]    |   Package propbank is already up-to-date!\n",
            "[nltk_data]    | Downloading package ptb to /root/nltk_data...\n",
            "[nltk_data]    |   Package ptb is already up-to-date!\n",
            "[nltk_data]    | Downloading package product_reviews_1 to\n",
            "[nltk_data]    |     /root/nltk_data...\n",
            "[nltk_data]    |   Package product_reviews_1 is already up-to-date!\n",
            "[nltk_data]    | Downloading package product_reviews_2 to\n",
            "[nltk_data]    |     /root/nltk_data...\n",
            "[nltk_data]    |   Package product_reviews_2 is already up-to-date!\n",
            "[nltk_data]    | Downloading package pros_cons to /root/nltk_data...\n",
            "[nltk_data]    |   Package pros_cons is already up-to-date!\n",
            "[nltk_data]    | Downloading package qc to /root/nltk_data...\n",
            "[nltk_data]    |   Package qc is already up-to-date!\n",
            "[nltk_data]    | Downloading package reuters to /root/nltk_data...\n",
            "[nltk_data]    |   Package reuters is already up-to-date!\n",
            "[nltk_data]    | Downloading package rte to /root/nltk_data...\n",
            "[nltk_data]    |   Package rte is already up-to-date!\n",
            "[nltk_data]    | Downloading package semcor to /root/nltk_data...\n",
            "[nltk_data]    |   Package semcor is already up-to-date!\n",
            "[nltk_data]    | Downloading package senseval to /root/nltk_data...\n",
            "[nltk_data]    |   Package senseval is already up-to-date!\n",
            "[nltk_data]    | Downloading package sentiwordnet to\n",
            "[nltk_data]    |     /root/nltk_data...\n",
            "[nltk_data]    |   Package sentiwordnet is already up-to-date!\n",
            "[nltk_data]    | Downloading package sentence_polarity to\n",
            "[nltk_data]    |     /root/nltk_data...\n",
            "[nltk_data]    |   Package sentence_polarity is already up-to-date!\n",
            "[nltk_data]    | Downloading package shakespeare to /root/nltk_data...\n",
            "[nltk_data]    |   Package shakespeare is already up-to-date!\n",
            "[nltk_data]    | Downloading package sinica_treebank to\n",
            "[nltk_data]    |     /root/nltk_data...\n",
            "[nltk_data]    |   Package sinica_treebank is already up-to-date!\n",
            "[nltk_data]    | Downloading package smultron to /root/nltk_data...\n",
            "[nltk_data]    |   Package smultron is already up-to-date!\n",
            "[nltk_data]    | Downloading package state_union to /root/nltk_data...\n",
            "[nltk_data]    |   Package state_union is already up-to-date!\n",
            "[nltk_data]    | Downloading package stopwords to /root/nltk_data...\n",
            "[nltk_data]    |   Package stopwords is already up-to-date!\n",
            "[nltk_data]    | Downloading package subjectivity to\n",
            "[nltk_data]    |     /root/nltk_data...\n",
            "[nltk_data]    |   Package subjectivity is already up-to-date!\n",
            "[nltk_data]    | Downloading package swadesh to /root/nltk_data...\n",
            "[nltk_data]    |   Package swadesh is already up-to-date!\n",
            "[nltk_data]    | Downloading package switchboard to /root/nltk_data...\n",
            "[nltk_data]    |   Package switchboard is already up-to-date!\n",
            "[nltk_data]    | Downloading package timit to /root/nltk_data...\n",
            "[nltk_data]    |   Package timit is already up-to-date!\n",
            "[nltk_data]    | Downloading package toolbox to /root/nltk_data...\n",
            "[nltk_data]    |   Package toolbox is already up-to-date!\n",
            "[nltk_data]    | Downloading package treebank to /root/nltk_data...\n",
            "[nltk_data]    |   Package treebank is already up-to-date!\n",
            "[nltk_data]    | Downloading package twitter_samples to\n",
            "[nltk_data]    |     /root/nltk_data...\n",
            "[nltk_data]    |   Package twitter_samples is already up-to-date!\n",
            "[nltk_data]    | Downloading package udhr to /root/nltk_data...\n",
            "[nltk_data]    |   Package udhr is already up-to-date!\n",
            "[nltk_data]    | Downloading package udhr2 to /root/nltk_data...\n",
            "[nltk_data]    |   Package udhr2 is already up-to-date!\n",
            "[nltk_data]    | Downloading package unicode_samples to\n",
            "[nltk_data]    |     /root/nltk_data...\n",
            "[nltk_data]    |   Package unicode_samples is already up-to-date!\n",
            "[nltk_data]    | Downloading package universal_treebanks_v20 to\n",
            "[nltk_data]    |     /root/nltk_data...\n",
            "[nltk_data]    |   Package universal_treebanks_v20 is already up-to-\n",
            "[nltk_data]    |       date!\n",
            "[nltk_data]    | Downloading package verbnet to /root/nltk_data...\n",
            "[nltk_data]    |   Package verbnet is already up-to-date!\n",
            "[nltk_data]    | Downloading package verbnet3 to /root/nltk_data...\n",
            "[nltk_data]    |   Package verbnet3 is already up-to-date!\n",
            "[nltk_data]    | Downloading package webtext to /root/nltk_data...\n",
            "[nltk_data]    |   Package webtext is already up-to-date!\n",
            "[nltk_data]    | Downloading package wordnet to /root/nltk_data...\n",
            "[nltk_data]    |   Package wordnet is already up-to-date!\n",
            "[nltk_data]    | Downloading package wordnet_ic to /root/nltk_data...\n",
            "[nltk_data]    |   Package wordnet_ic is already up-to-date!\n",
            "[nltk_data]    | Downloading package words to /root/nltk_data...\n",
            "[nltk_data]    |   Package words is already up-to-date!\n",
            "[nltk_data]    | Downloading package ycoe to /root/nltk_data...\n",
            "[nltk_data]    |   Package ycoe is already up-to-date!\n",
            "[nltk_data]    | Downloading package rslp to /root/nltk_data...\n",
            "[nltk_data]    |   Package rslp is already up-to-date!\n",
            "[nltk_data]    | Downloading package maxent_treebank_pos_tagger to\n",
            "[nltk_data]    |     /root/nltk_data...\n",
            "[nltk_data]    |   Package maxent_treebank_pos_tagger is already up-\n",
            "[nltk_data]    |       to-date!\n",
            "[nltk_data]    | Downloading package universal_tagset to\n",
            "[nltk_data]    |     /root/nltk_data...\n",
            "[nltk_data]    |   Package universal_tagset is already up-to-date!\n",
            "[nltk_data]    | Downloading package maxent_ne_chunker to\n",
            "[nltk_data]    |     /root/nltk_data...\n",
            "[nltk_data]    |   Package maxent_ne_chunker is already up-to-date!\n",
            "[nltk_data]    | Downloading package punkt to /root/nltk_data...\n",
            "[nltk_data]    |   Package punkt is already up-to-date!\n",
            "[nltk_data]    | Downloading package book_grammars to\n",
            "[nltk_data]    |     /root/nltk_data...\n",
            "[nltk_data]    |   Package book_grammars is already up-to-date!\n",
            "[nltk_data]    | Downloading package sample_grammars to\n",
            "[nltk_data]    |     /root/nltk_data...\n",
            "[nltk_data]    |   Package sample_grammars is already up-to-date!\n",
            "[nltk_data]    | Downloading package spanish_grammars to\n",
            "[nltk_data]    |     /root/nltk_data...\n",
            "[nltk_data]    |   Package spanish_grammars is already up-to-date!\n",
            "[nltk_data]    | Downloading package basque_grammars to\n",
            "[nltk_data]    |     /root/nltk_data...\n",
            "[nltk_data]    |   Package basque_grammars is already up-to-date!\n",
            "[nltk_data]    | Downloading package large_grammars to\n",
            "[nltk_data]    |     /root/nltk_data...\n",
            "[nltk_data]    |   Package large_grammars is already up-to-date!\n",
            "[nltk_data]    | Downloading package tagsets to /root/nltk_data...\n",
            "[nltk_data]    |   Package tagsets is already up-to-date!\n",
            "[nltk_data]    | Downloading package snowball_data to\n",
            "[nltk_data]    |     /root/nltk_data...\n",
            "[nltk_data]    |   Package snowball_data is already up-to-date!\n",
            "[nltk_data]    | Downloading package bllip_wsj_no_aux to\n",
            "[nltk_data]    |     /root/nltk_data...\n",
            "[nltk_data]    |   Package bllip_wsj_no_aux is already up-to-date!\n",
            "[nltk_data]    | Downloading package word2vec_sample to\n",
            "[nltk_data]    |     /root/nltk_data...\n",
            "[nltk_data]    |   Package word2vec_sample is already up-to-date!\n",
            "[nltk_data]    | Downloading package panlex_swadesh to\n",
            "[nltk_data]    |     /root/nltk_data...\n",
            "[nltk_data]    |   Package panlex_swadesh is already up-to-date!\n",
            "[nltk_data]    | Downloading package mte_teip5 to /root/nltk_data...\n",
            "[nltk_data]    |   Package mte_teip5 is already up-to-date!\n",
            "[nltk_data]    | Downloading package averaged_perceptron_tagger to\n",
            "[nltk_data]    |     /root/nltk_data...\n",
            "[nltk_data]    |   Package averaged_perceptron_tagger is already up-\n",
            "[nltk_data]    |       to-date!\n",
            "[nltk_data]    | Downloading package averaged_perceptron_tagger_ru to\n",
            "[nltk_data]    |     /root/nltk_data...\n",
            "[nltk_data]    |   Package averaged_perceptron_tagger_ru is already\n",
            "[nltk_data]    |       up-to-date!\n",
            "[nltk_data]    | Downloading package perluniprops to\n",
            "[nltk_data]    |     /root/nltk_data...\n",
            "[nltk_data]    |   Package perluniprops is already up-to-date!\n",
            "[nltk_data]    | Downloading package nonbreaking_prefixes to\n",
            "[nltk_data]    |     /root/nltk_data...\n",
            "[nltk_data]    |   Package nonbreaking_prefixes is already up-to-date!\n",
            "[nltk_data]    | Downloading package vader_lexicon to\n",
            "[nltk_data]    |     /root/nltk_data...\n",
            "[nltk_data]    |   Package vader_lexicon is already up-to-date!\n",
            "[nltk_data]    | Downloading package porter_test to /root/nltk_data...\n",
            "[nltk_data]    |   Package porter_test is already up-to-date!\n",
            "[nltk_data]    | Downloading package wmt15_eval to /root/nltk_data...\n",
            "[nltk_data]    |   Package wmt15_eval is already up-to-date!\n",
            "[nltk_data]    | Downloading package mwa_ppdb to /root/nltk_data...\n",
            "[nltk_data]    |   Package mwa_ppdb is already up-to-date!\n",
            "[nltk_data]    | \n",
            "[nltk_data]  Done downloading collection all\n",
            "Lemma for bring is  bring\n",
            "Lemma for king is  king\n",
            "Lemma for going is  going\n",
            "Lemma for anything is  anything\n",
            "Lemma for sing is  sing\n",
            "Lemma for ring is  ring\n",
            "Lemma for nothing is  nothing\n",
            "Lemma for thing is  thing\n"
          ],
          "name": "stdout"
        }
      ]
    },
    {
      "cell_type": "markdown",
      "metadata": {
        "id": "7Oa5CiG_dnlK"
      },
      "source": [
        "***WordNet***\n",
        "\n",
        "\n",
        "wordnet is nltk corpus reader,  a lexical database fpr english. \n",
        "\n",
        "\n",
        "it can be used to find meaninig of words, synonyms and antonyms.\n",
        "\n"
      ]
    },
    {
      "cell_type": "code",
      "metadata": {
        "colab": {
          "base_uri": "https://localhost:8080/"
        },
        "id": "Uh5iD8yVcW6E",
        "outputId": "d5a09adc-5e27-4218-e2d8-f7ecf35182ad"
      },
      "source": [
        "from nltk.corpus import wordnet\n",
        "synonyms=[]\n",
        "antonyms=[]\n",
        "for syn in wordnet.synsets(\"active\"):\n",
        "  for l in syn.lemmas():\n",
        "    synonyms.append(l.name())\n",
        "    if l.antonyms():\n",
        "      antonyms.append(l.antonyms()[0].name())\n",
        "\n",
        "print('Synonyms =>',set(synonyms))\n",
        "print('Antonyms =>',set(antonyms))"
      ],
      "execution_count": 81,
      "outputs": [
        {
          "output_type": "stream",
          "text": [
            "Synonyms => {'participating', 'alive', 'combat-ready', 'dynamic', 'active_voice', 'active_agent', 'active', 'fighting'}\n",
            "Antonyms => {'dormant', 'inactive', 'passive_voice', 'quiet', 'stative', 'passive', 'extinct'}\n"
          ],
          "name": "stdout"
        }
      ]
    },
    {
      "cell_type": "code",
      "metadata": {
        "id": "b5B1sCnse_K2"
      },
      "source": [
        ""
      ],
      "execution_count": null,
      "outputs": []
    }
  ]
}