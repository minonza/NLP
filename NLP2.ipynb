{
  "nbformat": 4,
  "nbformat_minor": 0,
  "metadata": {
    "colab": {
      "name": "NLP2.ipynb",
      "provenance": [],
      "collapsed_sections": [],
      "authorship_tag": "ABX9TyM57hKj/iXLvbktjEVgCid/",
      "include_colab_link": true
    },
    "kernelspec": {
      "name": "python3",
      "display_name": "Python 3"
    },
    "language_info": {
      "name": "python"
    }
  },
  "cells": [
    {
      "cell_type": "markdown",
      "metadata": {
        "id": "view-in-github",
        "colab_type": "text"
      },
      "source": [
        "<a href=\"https://colab.research.google.com/github/minonza/NLP/blob/main/NLP2.ipynb\" target=\"_parent\"><img src=\"https://colab.research.google.com/assets/colab-badge.svg\" alt=\"Open In Colab\"/></a>"
      ]
    },
    {
      "cell_type": "markdown",
      "metadata": {
        "id": "DKu5qDgtxRMO"
      },
      "source": [
        "***Word Embedding_1, count vectorizaation BOW, n-gram***"
      ]
    },
    {
      "cell_type": "markdown",
      "metadata": {
        "id": "h4QgbuP7xsDc"
      },
      "source": [
        "*machine learning models do not understand any string or word it understands number. we willuse technique which will convert the text into number.\n",
        "\n",
        "this number is called vector*\n",
        "\n",
        "\n",
        "high level word embedding\n",
        "\n"
      ]
    },
    {
      "cell_type": "markdown",
      "metadata": {
        "id": "1TuH-6aWyeIn"
      },
      "source": [
        "**BOW** model is used in NLP to represent the given text/sentence/document without giving any importance to grammer or occurance order of the words.\n",
        "\n",
        "--> it keeps count of frequency of the words in the text document.\n",
        "\n",
        "ex: my name is mini sharma. my father is a manager.\n",
        "I:2 is:2, father:1\n",
        "\n",
        "\n",
        "\n",
        "drawback: gives more importance to stopwords.  to resove this Tf-idf was introduced."
      ]
    },
    {
      "cell_type": "markdown",
      "metadata": {
        "id": "a_-8Gfpp03pb"
      },
      "source": [
        "**n-gram** keeps context of text intact. N-gram is sequence of words from a given text document. unlike bow method.. which only cares about frequency and doesnt care about grammer.\n",
        "\n",
        "n=1 unigram\n",
        "\n",
        "n=2 bigram\n",
        "\n",
        "n=3 trigram and so n.\n",
        "\n",
        "example: I went for a cup of coffee but i ended up having lunch with her.\n",
        "\n",
        "unigram: i,went,to,have,a,cup,of,coffee......\n",
        "\n",
        "bigram, i went, to have, a cup ,.....\n",
        "\n",
        "trigram, i went to, a cup of, coffee and ended,....."
      ]
    },
    {
      "cell_type": "markdown",
      "metadata": {
        "id": "W9KmizUF23OL"
      },
      "source": [
        "bow method is nothing but n-gram n=1\n",
        "\n",
        "**skip grams:** words not necessary be in the same order some words can be skipped.\n",
        "example: i dont understand what is the problem here.\n",
        "\n",
        "1 skip 2 grams: i understand, dont what , understand is, what the , is problem, the here."
      ]
    },
    {
      "cell_type": "code",
      "metadata": {
        "colab": {
          "base_uri": "https://localhost:8080/"
        },
        "id": "UXNQhxvqwsMU",
        "outputId": "2ee4c173-8d7b-48b4-d9f3-52510257a8b0"
      },
      "source": [
        "from sklearn.feature_extraction.text import CountVectorizer\n",
        "from nltk.corpus import stopwords\n",
        "import pandas as pd\n",
        "string=[\"This is an example of bag of words!\"] #single document (\",\" seperates each document)\n",
        "vect1=CountVectorizer() #converts text into tokens\n",
        "vect1.fit_transform(string)\n",
        "print(\"bag of words\",vect1.get_feature_names())"
      ],
      "execution_count": 3,
      "outputs": [
        {
          "output_type": "stream",
          "text": [
            "bag of words ['an', 'bag', 'example', 'is', 'of', 'this', 'words']\n"
          ],
          "name": "stdout"
        }
      ]
    },
    {
      "cell_type": "code",
      "metadata": {
        "colab": {
          "base_uri": "https://localhost:8080/"
        },
        "id": "9BkNuSsz52XT",
        "outputId": "8b0676d0-4267-452b-bf2f-fb91423d94c6"
      },
      "source": [
        "vect1.vocabulary_"
      ],
      "execution_count": 4,
      "outputs": [
        {
          "output_type": "execute_result",
          "data": {
            "text/plain": [
              "{'an': 0, 'bag': 1, 'example': 2, 'is': 3, 'of': 4, 'this': 5, 'words': 6}"
            ]
          },
          "metadata": {
            "tags": []
          },
          "execution_count": 4
        }
      ]
    },
    {
      "cell_type": "code",
      "metadata": {
        "colab": {
          "base_uri": "https://localhost:8080/"
        },
        "id": "3Ff34Zf56KbB",
        "outputId": "17139e14-0136-427b-e6ee-b5b77ac79ce0"
      },
      "source": [
        "#fit and transform to check if the word is present or not\n",
        "c_vect=CountVectorizer()\n",
        "c_vect.fit(string)"
      ],
      "execution_count": 5,
      "outputs": [
        {
          "output_type": "execute_result",
          "data": {
            "text/plain": [
              "CountVectorizer(analyzer='word', binary=False, decode_error='strict',\n",
              "                dtype=<class 'numpy.int64'>, encoding='utf-8', input='content',\n",
              "                lowercase=True, max_df=1.0, max_features=None, min_df=1,\n",
              "                ngram_range=(1, 1), preprocessor=None, stop_words=None,\n",
              "                strip_accents=None, token_pattern='(?u)\\\\b\\\\w\\\\w+\\\\b',\n",
              "                tokenizer=None, vocabulary=None)"
            ]
          },
          "metadata": {
            "tags": []
          },
          "execution_count": 5
        }
      ]
    },
    {
      "cell_type": "code",
      "metadata": {
        "colab": {
          "base_uri": "https://localhost:8080/"
        },
        "id": "47JeIid_648O",
        "outputId": "0ce50a9a-4902-465a-865d-3ee3533f21c4"
      },
      "source": [
        "string2=['Lets understand is of word is']\n",
        "c_new_vect=c_vect.transform(string2)\n",
        "print(\"text present at\",c_new_vect.toarray())\n",
        "#compare with indexes\n",
        "print(\"original indexes\",vect1.get_feature_names()) #occurance of is and of"
      ],
      "execution_count": 6,
      "outputs": [
        {
          "output_type": "stream",
          "text": [
            "text present at [[0 0 0 2 1 0 0]]\n",
            "original indexes ['an', 'bag', 'example', 'is', 'of', 'this', 'words']\n"
          ],
          "name": "stdout"
        }
      ]
    },
    {
      "cell_type": "code",
      "metadata": {
        "colab": {
          "base_uri": "https://localhost:8080/"
        },
        "id": "aLDaAxXk7gMd",
        "outputId": "6f795179-403b-41ad-ae8a-f5ac343f5846"
      },
      "source": [
        "##bag of words using stopwords (you can avoid writing extra steps to remove stopwords)\n",
        "import nltk\n",
        "nltk.download('stopwords')\n",
        "stopwords=stopwords.words('english')\n",
        "string=[\"This is an example of bag of words\"]\n",
        "vect1=CountVectorizer(stop_words=stopwords)\n",
        "print(vect1)"
      ],
      "execution_count": 7,
      "outputs": [
        {
          "output_type": "stream",
          "text": [
            "[nltk_data] Downloading package stopwords to /root/nltk_data...\n",
            "[nltk_data]   Unzipping corpora/stopwords.zip.\n",
            "CountVectorizer(analyzer='word', binary=False, decode_error='strict',\n",
            "                dtype=<class 'numpy.int64'>, encoding='utf-8', input='content',\n",
            "                lowercase=True, max_df=1.0, max_features=None, min_df=1,\n",
            "                ngram_range=(1, 1), preprocessor=None,\n",
            "                stop_words=['i', 'me', 'my', 'myself', 'we', 'our', 'ours',\n",
            "                            'ourselves', 'you', \"you're\", \"you've\", \"you'll\",\n",
            "                            \"you'd\", 'your', 'yours', 'yourself', 'yourselves',\n",
            "                            'he', 'him', 'his', 'himself', 'she', \"she's\",\n",
            "                            'her', 'hers', 'herself', 'it', \"it's\", 'its',\n",
            "                            'itself', ...],\n",
            "                strip_accents=None, token_pattern='(?u)\\\\b\\\\w\\\\w+\\\\b',\n",
            "                tokenizer=None, vocabulary=None)\n"
          ],
          "name": "stdout"
        }
      ]
    },
    {
      "cell_type": "code",
      "metadata": {
        "colab": {
          "base_uri": "https://localhost:8080/"
        },
        "id": "hD5QRbF1-4Cw",
        "outputId": "2b2a91e4-2120-4a1e-88f9-abc9d309e852"
      },
      "source": [
        "vect1.fit_transform(string)\n",
        "print(\"bag of words:\",vect1.get_feature_names())\n",
        "print(\"vocab           :vect1.vocabulary_\")#printing only important words except stop words"
      ],
      "execution_count": 8,
      "outputs": [
        {
          "output_type": "stream",
          "text": [
            "bag of words: ['bag', 'example', 'words']\n",
            "vocab           :vect1.vocabulary_\n"
          ],
          "name": "stdout"
        }
      ]
    },
    {
      "cell_type": "code",
      "metadata": {
        "id": "8czn791SBUWj"
      },
      "source": [
        "def text_matrix(message, countvect):\n",
        "  terms_doc=countvect.fit_transform(message)\n",
        "  return pd.DataFrame(terms_doc.toarray(),columns=countvect.get_feature_names())\n"
      ],
      "execution_count": 9,
      "outputs": []
    },
    {
      "cell_type": "code",
      "metadata": {
        "colab": {
          "base_uri": "https://localhost:8080/",
          "height": 97
        },
        "id": "F8y6iFHwCD9T",
        "outputId": "9dd3ba1a-a47f-45e9-e0dd-924673fdeda5"
      },
      "source": [
        "message=['A message is a discrete unit of communication intended by the source for consumption by some recipient or group of recipients.']\n",
        "c_vect=CountVectorizer()\n",
        "print(\"below matyrix is bag of words approach\")\n",
        "text_matrix(message,c_vect)"
      ],
      "execution_count": 10,
      "outputs": [
        {
          "output_type": "stream",
          "text": [
            "below matyrix is bag of words approach\n"
          ],
          "name": "stdout"
        },
        {
          "output_type": "execute_result",
          "data": {
            "text/html": [
              "<div>\n",
              "<style scoped>\n",
              "    .dataframe tbody tr th:only-of-type {\n",
              "        vertical-align: middle;\n",
              "    }\n",
              "\n",
              "    .dataframe tbody tr th {\n",
              "        vertical-align: top;\n",
              "    }\n",
              "\n",
              "    .dataframe thead th {\n",
              "        text-align: right;\n",
              "    }\n",
              "</style>\n",
              "<table border=\"1\" class=\"dataframe\">\n",
              "  <thead>\n",
              "    <tr style=\"text-align: right;\">\n",
              "      <th></th>\n",
              "      <th>by</th>\n",
              "      <th>communication</th>\n",
              "      <th>consumption</th>\n",
              "      <th>discrete</th>\n",
              "      <th>for</th>\n",
              "      <th>group</th>\n",
              "      <th>intended</th>\n",
              "      <th>is</th>\n",
              "      <th>message</th>\n",
              "      <th>of</th>\n",
              "      <th>or</th>\n",
              "      <th>recipient</th>\n",
              "      <th>recipients</th>\n",
              "      <th>some</th>\n",
              "      <th>source</th>\n",
              "      <th>the</th>\n",
              "      <th>unit</th>\n",
              "    </tr>\n",
              "  </thead>\n",
              "  <tbody>\n",
              "    <tr>\n",
              "      <th>0</th>\n",
              "      <td>2</td>\n",
              "      <td>1</td>\n",
              "      <td>1</td>\n",
              "      <td>1</td>\n",
              "      <td>1</td>\n",
              "      <td>1</td>\n",
              "      <td>1</td>\n",
              "      <td>1</td>\n",
              "      <td>1</td>\n",
              "      <td>2</td>\n",
              "      <td>1</td>\n",
              "      <td>1</td>\n",
              "      <td>1</td>\n",
              "      <td>1</td>\n",
              "      <td>1</td>\n",
              "      <td>1</td>\n",
              "      <td>1</td>\n",
              "    </tr>\n",
              "  </tbody>\n",
              "</table>\n",
              "</div>"
            ],
            "text/plain": [
              "   by  communication  consumption  discrete  ...  some  source  the  unit\n",
              "0   2              1            1         1  ...     1       1    1     1\n",
              "\n",
              "[1 rows x 17 columns]"
            ]
          },
          "metadata": {
            "tags": []
          },
          "execution_count": 10
        }
      ]
    },
    {
      "cell_type": "code",
      "metadata": {
        "colab": {
          "base_uri": "https://localhost:8080/"
        },
        "id": "B4RvEtptCgNF",
        "outputId": "807b24fd-7b9b-4cee-bb02-5f2b67904841"
      },
      "source": [
        "#n-grams\n",
        "from sklearn.feature_extraction.text import CountVectorizer\n",
        "\n",
        "from nltk.tokenize import word_tokenize\n",
        "string=[\"This is an exmaple of gram!\"]\n",
        "vect1=CountVectorizer(ngram_range=(1,1))\n",
        "\n",
        "vect1.fit_transform(string)\n",
        "\n",
        "vect2=CountVectorizer(ngram_range=(2,2))\n",
        "\n",
        "vect2.fit_transform(string)\n",
        "\n",
        "vect3=CountVectorizer(ngram_range=(3,3))\n",
        "\n",
        "vect3.fit_transform(string)\n",
        "\n",
        "vect4=CountVectorizer(ngram_range=(4,4))\n",
        "\n",
        "vect4.fit_transform(string)\n",
        "\n",
        "print(\"1-gram:\",vect1.get_feature_names())\n",
        "print(\"2-gram:\",vect2.get_feature_names())\n",
        "print(\"3-gram:\",vect3.get_feature_names())\n",
        "print(\"4-gram:\",vect4.get_feature_names())\n",
        "\n",
        "\n",
        "\n",
        "\n",
        "\n",
        "\n"
      ],
      "execution_count": 11,
      "outputs": [
        {
          "output_type": "stream",
          "text": [
            "1-gram: ['an', 'exmaple', 'gram', 'is', 'of', 'this']\n",
            "2-gram: ['an exmaple', 'exmaple of', 'is an', 'of gram', 'this is']\n",
            "3-gram: ['an exmaple of', 'exmaple of gram', 'is an exmaple', 'this is an']\n",
            "4-gram: ['an exmaple of gram', 'is an exmaple of', 'this is an exmaple']\n"
          ],
          "name": "stdout"
        }
      ]
    },
    {
      "cell_type": "markdown",
      "metadata": {
        "id": "nvAjgxzERqQd"
      },
      "source": [
        ""
      ]
    },
    {
      "cell_type": "markdown",
      "metadata": {
        "id": "uiFaon_iSEdb"
      },
      "source": [
        "***tf-idf --> Term frequency-inverse document frequency***\n",
        "reflects how import is a word to a document in a collection of corpus.\n",
        "\n",
        "**term frequency = (number of times word appears in document)/(total number of words in the document)**\n",
        "\n",
        "\n",
        "-disadvantage of term frequency is that gives higher weight to words with higher frequency.\n",
        "\n",
        "\n",
        "***Inverse document frequency*** = log[(Number of document)/(number of documents the word appears in)]"
      ]
    },
    {
      "cell_type": "code",
      "metadata": {
        "colab": {
          "base_uri": "https://localhost:8080/",
          "height": 142
        },
        "id": "77ke9qtjGt6r",
        "outputId": "1b1eee95-8791-4d8d-d1dc-62b8963164e5"
      },
      "source": [
        "from sklearn.feature_extraction.text import TfidfVectorizer\n",
        "import pandas as pd\n",
        "tfid=TfidfVectorizer(smooth_idf=False)\n",
        "doc=[\"This is an example\",\"we will see how it works\",\"IDF can be confusing\"]\n",
        "doc_vector=tfid.fit_transform(doc)\n",
        "df=pd.DataFrame(doc_vector.todense(),columns=tfid.get_feature_names())\n",
        "df"
      ],
      "execution_count": 12,
      "outputs": [
        {
          "output_type": "execute_result",
          "data": {
            "text/html": [
              "<div>\n",
              "<style scoped>\n",
              "    .dataframe tbody tr th:only-of-type {\n",
              "        vertical-align: middle;\n",
              "    }\n",
              "\n",
              "    .dataframe tbody tr th {\n",
              "        vertical-align: top;\n",
              "    }\n",
              "\n",
              "    .dataframe thead th {\n",
              "        text-align: right;\n",
              "    }\n",
              "</style>\n",
              "<table border=\"1\" class=\"dataframe\">\n",
              "  <thead>\n",
              "    <tr style=\"text-align: right;\">\n",
              "      <th></th>\n",
              "      <th>an</th>\n",
              "      <th>be</th>\n",
              "      <th>can</th>\n",
              "      <th>confusing</th>\n",
              "      <th>example</th>\n",
              "      <th>how</th>\n",
              "      <th>idf</th>\n",
              "      <th>is</th>\n",
              "      <th>it</th>\n",
              "      <th>see</th>\n",
              "      <th>this</th>\n",
              "      <th>we</th>\n",
              "      <th>will</th>\n",
              "      <th>works</th>\n",
              "    </tr>\n",
              "  </thead>\n",
              "  <tbody>\n",
              "    <tr>\n",
              "      <th>0</th>\n",
              "      <td>0.5</td>\n",
              "      <td>0.0</td>\n",
              "      <td>0.0</td>\n",
              "      <td>0.0</td>\n",
              "      <td>0.5</td>\n",
              "      <td>0.000000</td>\n",
              "      <td>0.0</td>\n",
              "      <td>0.5</td>\n",
              "      <td>0.000000</td>\n",
              "      <td>0.000000</td>\n",
              "      <td>0.5</td>\n",
              "      <td>0.000000</td>\n",
              "      <td>0.000000</td>\n",
              "      <td>0.000000</td>\n",
              "    </tr>\n",
              "    <tr>\n",
              "      <th>1</th>\n",
              "      <td>0.0</td>\n",
              "      <td>0.0</td>\n",
              "      <td>0.0</td>\n",
              "      <td>0.0</td>\n",
              "      <td>0.0</td>\n",
              "      <td>0.408248</td>\n",
              "      <td>0.0</td>\n",
              "      <td>0.0</td>\n",
              "      <td>0.408248</td>\n",
              "      <td>0.408248</td>\n",
              "      <td>0.0</td>\n",
              "      <td>0.408248</td>\n",
              "      <td>0.408248</td>\n",
              "      <td>0.408248</td>\n",
              "    </tr>\n",
              "    <tr>\n",
              "      <th>2</th>\n",
              "      <td>0.0</td>\n",
              "      <td>0.5</td>\n",
              "      <td>0.5</td>\n",
              "      <td>0.5</td>\n",
              "      <td>0.0</td>\n",
              "      <td>0.000000</td>\n",
              "      <td>0.5</td>\n",
              "      <td>0.0</td>\n",
              "      <td>0.000000</td>\n",
              "      <td>0.000000</td>\n",
              "      <td>0.0</td>\n",
              "      <td>0.000000</td>\n",
              "      <td>0.000000</td>\n",
              "      <td>0.000000</td>\n",
              "    </tr>\n",
              "  </tbody>\n",
              "</table>\n",
              "</div>"
            ],
            "text/plain": [
              "    an   be  can  confusing  ...  this        we      will     works\n",
              "0  0.5  0.0  0.0        0.0  ...   0.5  0.000000  0.000000  0.000000\n",
              "1  0.0  0.0  0.0        0.0  ...   0.0  0.408248  0.408248  0.408248\n",
              "2  0.0  0.5  0.5        0.5  ...   0.0  0.000000  0.000000  0.000000\n",
              "\n",
              "[3 rows x 14 columns]"
            ]
          },
          "metadata": {
            "tags": []
          },
          "execution_count": 12
        }
      ]
    },
    {
      "cell_type": "code",
      "metadata": {
        "id": "ej2eD5ISWciJ"
      },
      "source": [
        "def text_matrix(message,countvect):\n",
        "  terms_doc=countvect.fit_transform(message)\n",
        "  return pd.DataFrame(terms_doc.toarray(),columns=countvect.get_feature_names())\n",
        "  "
      ],
      "execution_count": 13,
      "outputs": []
    },
    {
      "cell_type": "code",
      "metadata": {
        "colab": {
          "base_uri": "https://localhost:8080/",
          "height": 142
        },
        "id": "wG7gqav1Yrkg",
        "outputId": "df0810f7-6652-4bc8-fbfa-9b7c5f899e8a"
      },
      "source": [
        "feb_message=[\"Who is that covid covid\",\n",
        "             \"covid is nothing\",\n",
        "             \"covid cases are dropping\"]\n",
        "tf=TfidfVectorizer()\n",
        "text_matrix(feb_message,tf)\n",
        "             "
      ],
      "execution_count": 14,
      "outputs": [
        {
          "output_type": "execute_result",
          "data": {
            "text/html": [
              "<div>\n",
              "<style scoped>\n",
              "    .dataframe tbody tr th:only-of-type {\n",
              "        vertical-align: middle;\n",
              "    }\n",
              "\n",
              "    .dataframe tbody tr th {\n",
              "        vertical-align: top;\n",
              "    }\n",
              "\n",
              "    .dataframe thead th {\n",
              "        text-align: right;\n",
              "    }\n",
              "</style>\n",
              "<table border=\"1\" class=\"dataframe\">\n",
              "  <thead>\n",
              "    <tr style=\"text-align: right;\">\n",
              "      <th></th>\n",
              "      <th>are</th>\n",
              "      <th>cases</th>\n",
              "      <th>covid</th>\n",
              "      <th>dropping</th>\n",
              "      <th>is</th>\n",
              "      <th>nothing</th>\n",
              "      <th>that</th>\n",
              "      <th>who</th>\n",
              "    </tr>\n",
              "  </thead>\n",
              "  <tbody>\n",
              "    <tr>\n",
              "      <th>0</th>\n",
              "      <td>0.000000</td>\n",
              "      <td>0.000000</td>\n",
              "      <td>0.592567</td>\n",
              "      <td>0.000000</td>\n",
              "      <td>0.381519</td>\n",
              "      <td>0.000000</td>\n",
              "      <td>0.501651</td>\n",
              "      <td>0.501651</td>\n",
              "    </tr>\n",
              "    <tr>\n",
              "      <th>1</th>\n",
              "      <td>0.000000</td>\n",
              "      <td>0.000000</td>\n",
              "      <td>0.425441</td>\n",
              "      <td>0.000000</td>\n",
              "      <td>0.547832</td>\n",
              "      <td>0.720333</td>\n",
              "      <td>0.000000</td>\n",
              "      <td>0.000000</td>\n",
              "    </tr>\n",
              "    <tr>\n",
              "      <th>2</th>\n",
              "      <td>0.546454</td>\n",
              "      <td>0.546454</td>\n",
              "      <td>0.322745</td>\n",
              "      <td>0.546454</td>\n",
              "      <td>0.000000</td>\n",
              "      <td>0.000000</td>\n",
              "      <td>0.000000</td>\n",
              "      <td>0.000000</td>\n",
              "    </tr>\n",
              "  </tbody>\n",
              "</table>\n",
              "</div>"
            ],
            "text/plain": [
              "        are     cases     covid  ...   nothing      that       who\n",
              "0  0.000000  0.000000  0.592567  ...  0.000000  0.501651  0.501651\n",
              "1  0.000000  0.000000  0.425441  ...  0.720333  0.000000  0.000000\n",
              "2  0.546454  0.546454  0.322745  ...  0.000000  0.000000  0.000000\n",
              "\n",
              "[3 rows x 8 columns]"
            ]
          },
          "metadata": {
            "tags": []
          },
          "execution_count": 14
        }
      ]
    },
    {
      "cell_type": "code",
      "metadata": {
        "colab": {
          "base_uri": "https://localhost:8080/",
          "height": 111
        },
        "id": "FddkjCf_ZNCT",
        "outputId": "137f5cd1-e2bd-48e8-9de6-b6962e9aa143"
      },
      "source": [
        "jul_message=[\"what is that covid covid\",\n",
        "             \"covid is bad\"]\n",
        "text_matrix(jul_message,tf)"
      ],
      "execution_count": 15,
      "outputs": [
        {
          "output_type": "execute_result",
          "data": {
            "text/html": [
              "<div>\n",
              "<style scoped>\n",
              "    .dataframe tbody tr th:only-of-type {\n",
              "        vertical-align: middle;\n",
              "    }\n",
              "\n",
              "    .dataframe tbody tr th {\n",
              "        vertical-align: top;\n",
              "    }\n",
              "\n",
              "    .dataframe thead th {\n",
              "        text-align: right;\n",
              "    }\n",
              "</style>\n",
              "<table border=\"1\" class=\"dataframe\">\n",
              "  <thead>\n",
              "    <tr style=\"text-align: right;\">\n",
              "      <th></th>\n",
              "      <th>bad</th>\n",
              "      <th>covid</th>\n",
              "      <th>is</th>\n",
              "      <th>that</th>\n",
              "      <th>what</th>\n",
              "    </tr>\n",
              "  </thead>\n",
              "  <tbody>\n",
              "    <tr>\n",
              "      <th>0</th>\n",
              "      <td>0.000000</td>\n",
              "      <td>0.668501</td>\n",
              "      <td>0.334251</td>\n",
              "      <td>0.469778</td>\n",
              "      <td>0.469778</td>\n",
              "    </tr>\n",
              "    <tr>\n",
              "      <th>1</th>\n",
              "      <td>0.704909</td>\n",
              "      <td>0.501549</td>\n",
              "      <td>0.501549</td>\n",
              "      <td>0.000000</td>\n",
              "      <td>0.000000</td>\n",
              "    </tr>\n",
              "  </tbody>\n",
              "</table>\n",
              "</div>"
            ],
            "text/plain": [
              "        bad     covid        is      that      what\n",
              "0  0.000000  0.668501  0.334251  0.469778  0.469778\n",
              "1  0.704909  0.501549  0.501549  0.000000  0.000000"
            ]
          },
          "metadata": {
            "tags": []
          },
          "execution_count": 15
        }
      ]
    },
    {
      "cell_type": "markdown",
      "metadata": {
        "id": "u9_gKqUkZtaz"
      },
      "source": [
        "**Countvectorizer,TF-IDF,n-grams**"
      ]
    },
    {
      "cell_type": "code",
      "metadata": {
        "id": "Uqd41VzDZdFY"
      },
      "source": [
        "from sklearn.feature_extraction.text import CountVectorizer,TfidfVectorizer\n",
        "arr=['car was cleaned by jack','jack was cleaned by car.']"
      ],
      "execution_count": 16,
      "outputs": []
    },
    {
      "cell_type": "code",
      "metadata": {
        "colab": {
          "base_uri": "https://localhost:8080/"
        },
        "id": "dBnJLXaPaRj7",
        "outputId": "15494c8f-ae9a-482b-ceac-d0184e4f58fd"
      },
      "source": [
        "vectorizer=CountVectorizer(ngram_range=(2,2))\n",
        "X=vectorizer.fit_transform(arr)\n",
        "print(\"feature names \\n\",vectorizer.get_feature_names())\n",
        "print(\"Array \\n\",X.toarray())"
      ],
      "execution_count": 17,
      "outputs": [
        {
          "output_type": "stream",
          "text": [
            "feature names \n",
            " ['by car', 'by jack', 'car was', 'cleaned by', 'jack was', 'was cleaned']\n",
            "Array \n",
            " [[0 1 1 1 0 1]\n",
            " [1 0 0 1 1 1]]\n"
          ],
          "name": "stdout"
        }
      ]
    },
    {
      "cell_type": "code",
      "metadata": {
        "colab": {
          "base_uri": "https://localhost:8080/"
        },
        "id": "CahpWnToa7-K",
        "outputId": "14553409-81ee-40b5-878a-32a68d6776c8"
      },
      "source": [
        "vectorizer=TfidfVectorizer(ngram_range=(2,2))\n",
        "X=vectorizer.fit_transform(arr)\n",
        "print(X.toarray())"
      ],
      "execution_count": 18,
      "outputs": [
        {
          "output_type": "stream",
          "text": [
            "[[0.         0.57615236 0.57615236 0.40993715 0.         0.40993715]\n",
            " [0.57615236 0.         0.         0.40993715 0.57615236 0.40993715]]\n"
          ],
          "name": "stdout"
        }
      ]
    },
    {
      "cell_type": "markdown",
      "metadata": {
        "id": "k-Sch8iborcN"
      },
      "source": [
        "**Word2Vec**\n",
        "\n",
        "in one hot encoding  1. have a good day 2. have a great day\n",
        "\n",
        "\n",
        "they both have same encoding thats why we use word2vec.\n",
        "\n"
      ]
    },
    {
      "cell_type": "code",
      "metadata": {
        "id": "rRhf5Q5dbpiJ"
      },
      "source": [
        "import re\n",
        "import nltk\n",
        "import string\n",
        "from gensim.models import Word2Vec\n",
        "from nltk.corpus import stopwords\n",
        "import matplotlib.pyplot as plt\n",
        "%matplotlib inline\n"
      ],
      "execution_count": 29,
      "outputs": []
    },
    {
      "cell_type": "code",
      "metadata": {
        "id": "gck03ibop_We"
      },
      "source": [
        "paragraph=\"\"\"Coronavirus disease (COVID-19) is an infectious disease caused by a newly discovered coronavirus(for example, by coughing into a flexed elbow). Most people infected with the COVID-19 virus will experience mild to moderate respiratory illness and recover without requiring special treatment.  Older people, and those with underlying medical problems like cardiovascular disease, diabetes, chronic respiratory disease, and cancer are more likely to develop serious illness.\n",
        "\n",
        "The best way to prevent and slow down transmission is to be well informed about the COVID-19 virus, the disease it causes and how it spreads. Protect yourself and others from infection by washing your hands or using an alcohol based rub frequently and not touching your face. \n",
        "\n",
        "The COVID-19 virus spreads primarily through droplets of saliva or discharge from the nose when an infected person coughs or sneezes, so it’s important that you also practice respiratory etiquette (for example, by coughing into a flexed elbow).\"\"\""
      ],
      "execution_count": 33,
      "outputs": []
    },
    {
      "cell_type": "code",
      "metadata": {
        "id": "TsxoYA_BqzjM"
      },
      "source": [
        "\n",
        "paragraph = paragraph.translate(str.maketrans(\" \",\" \",string.punctuation))\n",
        "text=re.sub(r'\\[[0-9]*\\]',' ',paragraph)\n",
        "text=re.sub(r'\\s+',' ',text)\n",
        "text=text.lower()\n",
        "text=re.sub(r'\\d',' ',text)\n",
        "text=re.sub(r'\\s+',' ',text)\n",
        "\n",
        "\n"
      ],
      "execution_count": 39,
      "outputs": []
    },
    {
      "cell_type": "code",
      "metadata": {
        "id": "A7Qffcu1rwIV",
        "colab": {
          "base_uri": "https://localhost:8080/"
        },
        "outputId": "b890dfdb-cb66-467f-bff6-dde6c0f43345"
      },
      "source": [
        "#preparing the dataset\n",
        "nltk.download('punkt')\n",
        "sentences = nltk.sent_tokenize(text)\n"
      ],
      "execution_count": 40,
      "outputs": [
        {
          "output_type": "stream",
          "text": [
            "[nltk_data] Downloading package punkt to /root/nltk_data...\n",
            "[nltk_data]   Package punkt is already up-to-date!\n"
          ],
          "name": "stdout"
        }
      ]
    },
    {
      "cell_type": "code",
      "metadata": {
        "colab": {
          "base_uri": "https://localhost:8080/"
        },
        "id": "rMWlO3L9XCkE",
        "outputId": "5c8eda14-551a-4170-a0b8-35ab5e0265b3"
      },
      "source": [
        "sent_word=[nltk.word_tokenize(sentence) for sentence in sentences]\n",
        "print(sent_word)"
      ],
      "execution_count": 41,
      "outputs": [
        {
          "output_type": "stream",
          "text": [
            "[['coronavirus', 'disease', 'covid', 'is', 'an', 'infectious', 'disease', 'caused', 'by', 'a', 'newly', 'discovered', 'coronavirusfor', 'example', 'by', 'coughing', 'into', 'a', 'flexed', 'elbow', 'most', 'people', 'infected', 'with', 'the', 'covid', 'virus', 'will', 'experience', 'mild', 'to', 'moderate', 'respiratory', 'illness', 'and', 'recover', 'without', 'requiring', 'special', 'treatment', 'older', 'people', 'and', 'those', 'with', 'underlying', 'medical', 'problems', 'like', 'cardiovascular', 'disease', 'diabetes', 'chronic', 'respiratory', 'disease', 'and', 'cancer', 'are', 'more', 'likely', 'to', 'develop', 'serious', 'illness', 'the', 'best', 'way', 'to', 'prevent', 'and', 'slow', 'down', 'transmission', 'is', 'to', 'be', 'well', 'informed', 'about', 'the', 'covid', 'virus', 'the', 'disease', 'it', 'causes', 'and', 'how', 'it', 'spreads', 'protect', 'yourself', 'and', 'others', 'from', 'infection', 'by', 'washing', 'your', 'hands', 'or', 'using', 'an', 'alcohol', 'based', 'rub', 'frequently', 'and', 'not', 'touching', 'your', 'face', 'the', 'covid', 'virus', 'spreads', 'primarily', 'through', 'droplets', 'of', 'saliva', 'or', 'discharge', 'from', 'the', 'nose', 'when', 'an', 'infected', 'person', 'coughs', 'or', 'sneezes', 'so', 'it', '’', 's', 'important', 'that', 'you', 'also', 'practice', 'respiratory', 'etiquette', 'for', 'example', 'by', 'coughing', 'into', 'a', 'flexed', 'elbow']]\n"
          ],
          "name": "stdout"
        }
      ]
    },
    {
      "cell_type": "code",
      "metadata": {
        "id": "maBtKFGnXZ7d"
      },
      "source": [
        ""
      ],
      "execution_count": 42,
      "outputs": []
    },
    {
      "cell_type": "code",
      "metadata": {
        "colab": {
          "base_uri": "https://localhost:8080/",
          "height": 35
        },
        "id": "qEz3HcwZX4I1",
        "outputId": "130a90b6-6acd-4543-90dd-eef447d999f5"
      },
      "source": [
        "punc=string.punctuation\n",
        "punc"
      ],
      "execution_count": 43,
      "outputs": [
        {
          "output_type": "execute_result",
          "data": {
            "application/vnd.google.colaboratory.intrinsic+json": {
              "type": "string"
            },
            "text/plain": [
              "'!\"#$%&\\'()*+,-./:;<=>?@[\\\\]^_`{|}~'"
            ]
          },
          "metadata": {
            "tags": []
          },
          "execution_count": 43
        }
      ]
    },
    {
      "cell_type": "code",
      "metadata": {
        "id": "m2u9KSNgYLPM"
      },
      "source": [
        "for i in range(len(sent_word)):\n",
        "  sent_word[i]=[word for word in sent_word[i]\n",
        "                if word not in stopwords.words('english') if word not in punc]"
      ],
      "execution_count": 44,
      "outputs": []
    },
    {
      "cell_type": "code",
      "metadata": {
        "id": "KQ4CJcNSYj_E"
      },
      "source": [
        "model=Word2Vec(sent_word,min_count=1)\n",
        "words=model.wv.vocab"
      ],
      "execution_count": 45,
      "outputs": []
    },
    {
      "cell_type": "code",
      "metadata": {
        "colab": {
          "base_uri": "https://localhost:8080/"
        },
        "id": "yjMVMKJNYokn",
        "outputId": "eeddef06-4972-4610-e926-37a2a9cf07dc"
      },
      "source": [
        "vector=model.wv['covid']\n",
        "print(vector)"
      ],
      "execution_count": 46,
      "outputs": [
        {
          "output_type": "stream",
          "text": [
            "[ 2.4644772e-03 -2.4026323e-03 -1.6915271e-03 -3.4454272e-03\n",
            " -1.9637994e-03  1.4502263e-03 -4.0057451e-03 -5.0268770e-04\n",
            "  1.5123765e-03 -4.5204065e-03  1.0447941e-03  4.9018380e-03\n",
            "  3.1340558e-03 -1.8535989e-03  4.2031375e-03  1.4384763e-03\n",
            " -3.6380009e-03 -6.0185877e-04  3.1975952e-03  2.6860682e-03\n",
            "  2.7918611e-03  3.8005046e-03 -2.0421389e-03 -3.9887475e-03\n",
            "  5.4314482e-04  3.1554056e-04  2.6066063e-03 -8.8046677e-04\n",
            " -3.7421010e-04 -2.5100629e-03  4.5233178e-03 -4.4533494e-03\n",
            "  4.7770548e-03  4.1449200e-03 -2.3442409e-03  4.2953459e-03\n",
            " -4.9711671e-04 -2.9974990e-03 -4.3178378e-03  1.1965767e-03\n",
            "  1.1391431e-03  2.7671794e-03  6.6914159e-04  3.4631097e-03\n",
            " -5.4776546e-04 -4.0721903e-03 -2.5708410e-03 -1.8198419e-03\n",
            " -9.4564102e-04  3.7373605e-03 -4.4691721e-03 -2.5960542e-03\n",
            "  1.9991223e-03  1.2973349e-03 -2.5526113e-03 -3.9138026e-03\n",
            "  4.2627344e-04  2.7380602e-03 -3.7244288e-03  8.0644801e-05\n",
            " -4.0676100e-03 -2.8395932e-03 -1.9313694e-03  1.1229976e-03\n",
            " -4.2664669e-03  2.9517887e-03 -1.7507847e-03 -1.9881274e-03\n",
            " -1.9159169e-03 -2.3603959e-03  4.3848502e-03  4.7449046e-03\n",
            " -4.1161608e-03  2.6435233e-03  3.1741979e-03 -2.9277871e-03\n",
            " -4.5734276e-03 -1.5411159e-03  1.0056907e-03 -8.0569682e-04\n",
            " -1.7609848e-03 -3.4784211e-03 -3.7947751e-03 -4.5077968e-03\n",
            "  1.8017938e-03 -2.8116053e-03  4.5106569e-03 -2.5653054e-03\n",
            "  2.3545814e-03 -6.5006560e-04 -8.1649842e-04 -4.3942598e-03\n",
            "  2.9217137e-03 -4.0794956e-03  1.4957007e-03 -2.0425348e-03\n",
            " -3.3684878e-03  2.5172119e-03  1.0967747e-03 -1.9699188e-03]\n"
          ],
          "name": "stdout"
        }
      ]
    },
    {
      "cell_type": "code",
      "metadata": {
        "id": "9Li2svdjY27i"
      },
      "source": [
        "similar=model.wv.most_similar('coronavirus',topn=5)"
      ],
      "execution_count": 47,
      "outputs": []
    },
    {
      "cell_type": "code",
      "metadata": {
        "colab": {
          "base_uri": "https://localhost:8080/"
        },
        "id": "sIn0iyzUZFIw",
        "outputId": "85fa13db-af03-4f1a-9611-19d7a5dc6293"
      },
      "source": [
        "similar"
      ],
      "execution_count": 48,
      "outputs": [
        {
          "output_type": "execute_result",
          "data": {
            "text/plain": [
              "[('recover', 0.18466618657112122),\n",
              " ('likely', 0.1837800145149231),\n",
              " ('caused', 0.16574087738990784),\n",
              " ('virus', 0.16325588524341583),\n",
              " ('rub', 0.1601230353116989)]"
            ]
          },
          "metadata": {
            "tags": []
          },
          "execution_count": 48
        }
      ]
    },
    {
      "cell_type": "code",
      "metadata": {
        "colab": {
          "base_uri": "https://localhost:8080/"
        },
        "id": "mJfUTcH1Zpcg",
        "outputId": "4eb22d87-7346-4d25-9e35-2ffdd4ab0d7f"
      },
      "source": [
        "model.wv.similarity(w1='coronavirus',w2='virus')"
      ],
      "execution_count": 53,
      "outputs": [
        {
          "output_type": "execute_result",
          "data": {
            "text/plain": [
              "0.16325589"
            ]
          },
          "metadata": {
            "tags": []
          },
          "execution_count": 53
        }
      ]
    },
    {
      "cell_type": "code",
      "metadata": {
        "colab": {
          "base_uri": "https://localhost:8080/",
          "height": 89
        },
        "id": "vJQkcpeWZ6VF",
        "outputId": "d9ce2221-52cf-49c1-f244-ec9ce25828f6"
      },
      "source": [
        "#filter non simiarity\n",
        "model.wv.doesnt_match([\"infection\",\"spread\"])"
      ],
      "execution_count": 54,
      "outputs": [
        {
          "output_type": "stream",
          "text": [
            "/usr/local/lib/python3.7/dist-packages/gensim/models/keyedvectors.py:895: FutureWarning: arrays to stack must be passed as a \"sequence\" type such as list or tuple. Support for non-sequence iterables such as generators is deprecated as of NumPy 1.16 and will raise an error in the future.\n",
            "  vectors = vstack(self.word_vec(word, use_norm=True) for word in used_words).astype(REAL)\n"
          ],
          "name": "stderr"
        },
        {
          "output_type": "execute_result",
          "data": {
            "application/vnd.google.colaboratory.intrinsic+json": {
              "type": "string"
            },
            "text/plain": [
              "'infection'"
            ]
          },
          "metadata": {
            "tags": []
          },
          "execution_count": 54
        }
      ]
    },
    {
      "cell_type": "code",
      "metadata": {
        "colab": {
          "base_uri": "https://localhost:8080/",
          "height": 428
        },
        "id": "Y0L3v2b_adNa",
        "outputId": "f25b76eb-84cb-43af-d20a-0be0aed863c3"
      },
      "source": [
        "from sklearn.manifold import TSNE\n",
        "vocab=['recover','likely','virus','rub']\n",
        "def tsne_plot(model):\n",
        "  labels=[]\n",
        "  wordvecs=[]\n",
        "  for word in vocab:\n",
        "    wordvecs.append(model[word])\n",
        "    labels.append(word)\n",
        "  tsne_model=TSNE(perplexity=3,n_components=2,init='pca',random_state=42)\n",
        "  cordinates=tsne_model.fit_transform(wordvecs)\n",
        "  x=[]\n",
        "  y=[]\n",
        "  for value in cordinates:\n",
        "    x.append(value[0])\n",
        "    y.append(value[1])\n",
        "  plt.figure(figsize=(10,6))\n",
        "  for i in range(len(x)):\n",
        "    plt.scatter(x[i],y[i])\n",
        "    plt.annotate(labels[i],\n",
        "                 xy=(x[i],y[i]),\n",
        "                 xytext=(2, 2),\n",
        "                 textcoords='offset points', ha ='right')\n",
        "    \n",
        "tsne_plot(model)\n",
        "plt.show()        "
      ],
      "execution_count": 57,
      "outputs": [
        {
          "output_type": "stream",
          "text": [
            "/usr/local/lib/python3.7/dist-packages/ipykernel_launcher.py:7: DeprecationWarning: Call to deprecated `__getitem__` (Method will be removed in 4.0.0, use self.wv.__getitem__() instead).\n",
            "  import sys\n"
          ],
          "name": "stderr"
        },
        {
          "output_type": "display_data",
          "data": {
            "image/png": "[encoded data removed]",
            "text/plain": [
              "<Figure size 720x432 with 1 Axes>"
            ]
          },
          "metadata": {
            "tags": [],
            "needs_background": "light"
          }
        }
      ]
    },
    {
      "cell_type": "code",
      "metadata": {
        "id": "hk3XExsZfMIF"
      },
      "source": [
        ""
      ],
      "execution_count": null,
      "outputs": []
    }
  ]
}